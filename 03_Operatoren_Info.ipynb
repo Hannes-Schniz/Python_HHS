{
 "cells": [
  {
   "cell_type": "markdown",
   "metadata": {},
   "source": [
    "## Operatoren für Zahlen\n",
    "\n",
    "| Operator | Name           | Beispiel |\n",
    "|----------|----------------|----------|\n",
    "| +        | Addition       | x + y    |\n",
    "| -        | Subtraktion    | x - y    |\n",
    "| *        | Multiplikation | x * y    |\n",
    "| /        | Division       | x / y    |\n",
    "| **       | Exponentiation | x ** y   |\n",
    "| //       | Floor division | x // y   |\n",
    "| %        | Modulo        | x % y    |"
   ]
  },
  {
   "cell_type": "code",
   "execution_count": 16,
   "metadata": {},
   "outputs": [
    {
     "name": "stdout",
     "output_type": "stream",
     "text": [
      "a + b = 14\n",
      "a - b = 8\n",
      "a * b = 33\n",
      "a / b = 3.6666666666666665\n",
      "a ** b = 1331\n",
      "a // b = 3\n",
      "a % b = 2\n",
      "a geteilt durch b ist 3 Rest 2\n"
     ]
    }
   ],
   "source": [
    "a=11\n",
    "b=3\n",
    "\n",
    "print(\"a + b =\",a+b)\n",
    "print(\"a - b =\", a-b)\n",
    "print(\"a * b =\", a*b)\n",
    "print(\"a / b =\", a/b)\n",
    "print(\"a ** b =\", a**b)\n",
    "print(\"a // b =\", a//b) # Rechnen mit Rest \n",
    "print(\"a % b =\", a%b) # Der Rest\n",
    "print (\"a geteilt durch b ist\", a//b, \"Rest\", a%b)"
   ]
  },
  {
   "cell_type": "markdown",
   "metadata": {},
   "source": [
    "### Beispiel: \n",
    "Wie viele Bücher hat eine Klasse mit 17 Schülern, wenn jeder Schüler 5 Bücher bekommt?\n"
   ]
  },
  {
   "cell_type": "code",
   "execution_count": 1,
   "metadata": {},
   "outputs": [
    {
     "name": "stdout",
     "output_type": "stream",
     "text": [
      "85\n"
     ]
    }
   ],
   "source": [
    "anzahl_schueler=17\n",
    "anzahl_buecher=5\n",
    "anzahl_buecher_gesamt= anzahl_buecher*anzahl_schueler\n",
    "print(anzahl_buecher_gesamt)"
   ]
  }
 ],
 "metadata": {
  "kernelspec": {
   "display_name": "Python 3",
   "language": "python",
   "name": "python3"
  },
  "language_info": {
   "codemirror_mode": {
    "name": "ipython",
    "version": 3
   },
   "file_extension": ".py",
   "mimetype": "text/x-python",
   "name": "python",
   "nbconvert_exporter": "python",
   "pygments_lexer": "ipython3",
   "version": "3.10.9"
  },
  "orig_nbformat": 4
 },
 "nbformat": 4,
 "nbformat_minor": 2
}

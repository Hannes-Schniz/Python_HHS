{
 "cells": [
  {
   "cell_type": "markdown",
   "metadata": {},
   "source": [
    "#### Motivation\n",
    "Wie kann ich den Spielern einer Fußballweltmeistermannschaft ihre jeweiligen Rückennummern zuordnen und diese bei Bedarf *schnell* finden?"
   ]
  },
  {
   "cell_type": "code",
   "execution_count": 11,
   "metadata": {},
   "outputs": [
    {
     "name": "stdout",
     "output_type": "stream",
     "text": [
      "11\n"
     ]
    },
    {
     "data": {
      "text/plain": [
       "11"
      ]
     },
     "execution_count": 11,
     "metadata": {},
     "output_type": "execute_result"
    }
   ],
   "source": [
    "# Erster Versuch: Zwei Listen\n",
    "mannschaft = [\"Neuer\", \"Kroos\", \"Özil\", \"Boateng\", \"Hummels\", \"Müller\", \"Ginter\", \"Klose\"]\n",
    "nummern = [1, 18, 8, 20, 5, 13, 3, 11]\n",
    "\n",
    "print(nummern[mannschaft.index(\"Klose\")])   # unschön und ineffizient: die ganze Liste muss durchsucht werden\n",
    "\n",
    "# Zweiter Versuch: Elegant und blitzschnell mit einem Dictionary:\n",
    "mannschaft = {\"Neuer\": 1, \"Kroos\": 18, \"Özil\": 8, \"Boateng\": 20, \"Hummels\": 5, \"Müller\": 13, \"Ginter\": 3, \"Klose\": 11}\n",
    "mannschaft[\"Klose\"]"
   ]
  },
  {
   "cell_type": "markdown",
   "metadata": {},
   "source": [
    "# Dictionaries"
   ]
  },
  {
   "cell_type": "markdown",
   "metadata": {},
   "source": [
    "(auch: assoziative Arrays, Hashtabelle, (Hash-)Maps, Wörterbuch)\n",
    "\n",
    "Links:\n",
    "* [Ausführliche Einführung](https://www.data-science-architect.de/dictionaries-python/)\n",
    "* [Noch eine Einführung mit interessanten Beispielen](http://python4kids.net/how2think/kap10.htm)\n",
    "\n",
    "**Dictionaries** speichern *Zuordnungen*, d.h. einem Wert x wird ein anderer Wert y zugeordnet. Den x-Wert nennt man *Schlüssel* (key); das dem Schlüssel zugeordnete Objekt nennt man *Wert* (value).\n",
    "\n",
    "Dictionaries sind die wahrscheinlich flexibelste Datenstruktur, die es gibt. Sie sind eine natürliche Erweiterung von Arrays und werden in Python syntaktisch auch genau wie Arrays angesprochen.\n",
    "\n",
    "Java stellt dieselbe Datenstruktur unter dem Namen HashMap natürlich auch zur Verfügung. Da HashMaps aber umständlicher zu benutzen sind als Pythons Dictionaries sind sie in der Schule (zu Unrecht!) viel weniger gebräuchlich. Im Gegensatz dazu werden Sie in fast jedem nichttrivialen Python-Programm Dictionaries antreffen - sie sind einfach zu praktisch!"
   ]
  },
  {
   "cell_type": "code",
   "execution_count": 13,
   "metadata": {},
   "outputs": [
    {
     "name": "stdout",
     "output_type": "stream",
     "text": [
      "Harry\n"
     ]
    }
   ],
   "source": [
    "namen = {}    # erzeugt ein leeres dictionary. Alternativ: dict()\n",
    "\n",
    "# Werte in das dict eintragen: ähnlich wie bei Listen mit eckigen Klammern\n",
    "namen[\"Potter\"] = \"Harry\"   # Schlüssel: Nachname, Wert: Vorname\n",
    "namen[\"Granger\"] = \"Hermine\"\n",
    "namen[\"Weasley\"] = \"Ron\"\n",
    "namen[\"Dumbledore\"] = \"Albus\"\n",
    "\n",
    "# Auf Werte zugreifen: ebenfalls wie bei Listen\n",
    "vorname = namen[\"Potter\"]\n",
    "print(vorname)"
   ]
  },
  {
   "cell_type": "code",
   "execution_count": 14,
   "metadata": {},
   "outputs": [
    {
     "name": "stdout",
     "output_type": "stream",
     "text": [
      "None\n",
      "Bei Harry Potter gibt es diesen Namen nicht\n",
      "Ron Weasley\n",
      "Harry Potter\n",
      "NN Longbottom\n",
      "NN Voldemort\n"
     ]
    }
   ],
   "source": [
    "# Was, wenn der Schlüssel im Dictionary nicht vorkommt?\n",
    "\n",
    "# namen[\"Meier\"]   # löst eine Exception aus, da \"Meier\" nicht im dict\n",
    "\n",
    "# Alternativ: Die get-Methode liefert ebenfalls den mit dem Schlüssel assozierten Wert zurück,\n",
    "# aber None, falls der Schlüssel nicht gefunden wurde\n",
    "print(namen.get(\"Meier\"))   # None\n",
    "\n",
    "# Bei der get-Methode kann ein Default-Wert angegeben werden, falls der Key nicht gefunden wird\n",
    "print(namen.get(\"Meier\", \"Bei Harry Potter gibt es diesen Namen nicht\"))\n",
    "\n",
    "# Häufig ist es auch eleganter/einfacher (und wegen der blitzschnelle Implementation \n",
    "# als Hashtabelle auch nicht langsamer) mit \"in\" die Existenz eines Schlüssels zu prüfen:\n",
    "for name in [\"Weasley\", \"Potter\", \"Longbottom\", \"Voldemort\"]:\n",
    "    if name in namen:\n",
    "        print(namen[name], name)\n",
    "    else:\n",
    "        print(\"NN\", name)"
   ]
  },
  {
   "cell_type": "markdown",
   "metadata": {},
   "source": [
    "Natürlich kann man Einträge auch überschreiben und löschen:"
   ]
  },
  {
   "cell_type": "code",
   "execution_count": 12,
   "metadata": {},
   "outputs": [
    {
     "name": "stdout",
     "output_type": "stream",
     "text": [
      "Percy Weasley\n",
      "Ich kenne niemanden mehr mit Namen Weasley\n"
     ]
    }
   ],
   "source": [
    "nn = \"Weasley\"\n",
    "namen[nn] = \"Percy\"\n",
    "print(namen[nn], nn)\n",
    "del namen[nn]\n",
    "print(namen.get(nn, f\"Ich kenne niemanden mehr mit Namen {nn}\"))"
   ]
  },
  {
   "cell_type": "code",
   "execution_count": 4,
   "metadata": {},
   "outputs": [
    {
     "name": "stdout",
     "output_type": "stream",
     "text": [
      "Harry heißt mit Nachnamen Potter\n",
      "Hermione heißt mit Nachnamen Granger\n",
      "Ron heißt mit Nachnamen Weasley\n",
      "Albus heißt mit Nachnamen Dumbledore\n"
     ]
    }
   ],
   "source": [
    "for nn in namen:   # Schleifen iterieren standardmäßig über die *Schlüssel*, d.h. hier: die Nachnamen\n",
    "    print(f\"{namen[nn]} heißt mit Nachnamen {nn}\")   # in einem sog. f-String (Form: f\"...\"\") werden die Ausdrücke in Klammern evaluiert. Sehr praktisch!"
   ]
  },
  {
   "cell_type": "code",
   "execution_count": 6,
   "metadata": {},
   "outputs": [
    {
     "name": "stdout",
     "output_type": "stream",
     "text": [
      "Jemand heißt mit Vornamen Harry.\n",
      "Jemand heißt mit Vornamen Hermione.\n",
      "Jemand heißt mit Vornamen Ron.\n",
      "Jemand heißt mit Vornamen Albus.\n"
     ]
    }
   ],
   "source": [
    "for vn in namen.values():\n",
    "    print(f\"Jemand heißt mit Vornamen {vn}.\")"
   ]
  },
  {
   "cell_type": "code",
   "execution_count": 3,
   "metadata": {},
   "outputs": [
    {
     "name": "stdout",
     "output_type": "stream",
     "text": [
      "Kuchen kostet 1.5 EUR.\n"
     ]
    }
   ],
   "source": [
    "preise = {\"Eis\": 2, \"Kuchen\": 1.5}\n",
    "preise = dict(Eis=2, Kuchen=1.5, Kaffee=1, Tee=1)   # Wenn die Keys Strings sind, kann man den praktischen Konstruktor dict() verwenden\n",
    "bestellung = \"Kuchen\"\n",
    "preis = preise[bestellung]\n",
    "print(bestellung, \"kostet\", preis, \"EUR.\")"
   ]
  }
 ],
 "metadata": {
  "kernelspec": {
   "display_name": "Python 3",
   "language": "python",
   "name": "python3"
  },
  "language_info": {
   "codemirror_mode": {
    "name": "ipython",
    "version": 3
   },
   "file_extension": ".py",
   "mimetype": "text/x-python",
   "name": "python",
   "nbconvert_exporter": "python",
   "pygments_lexer": "ipython3",
   "version": "3.8.5"
  }
 },
 "nbformat": 4,
 "nbformat_minor": 4
}

{
 "cells": [
  {
   "cell_type": "markdown",
   "metadata": {},
   "source": [
    "## Aufgabe 1: \n",
    "Erstellen Sie eine Wertetabelle für die Funktion 𝑦=𝑥^2\n",
    "Dabei soll der Wert für x über die Tastatur eingelesen werden. \n",
    "\n",
    "Erstellen Sie zunächst einen Programmablaufplan. \n",
    "\n",
    "Hinweis für das Programm: mit print(a,b,c, sep=\"??\") können Sie den ausgegebenen Seperator auf ?? setzen"
   ]
  },
  {
   "cell_type": "markdown",
   "metadata": {},
   "source": [
    "## Aufgabe 2: \n",
    "### Nach wie vielen Jahren hat sich das Kapital verdoppelt?\n",
    "\n",
    "Nach Eingabe von Anfangskapital und Zinssatz soll jeweils ausgegeben werden, wie hoch das Kapital ein Jahr später ist. \n",
    "Sobald sich das Kapital verdoppelt hat, soll das ausgegeben werden. \n",
    "\n",
    "Erstellen Sie zuerst einen PAP."
   ]
  },
  {
   "cell_type": "markdown",
   "metadata": {},
   "source": [
    "## Aufgabe 3: \n",
    "Erstellen Sie ein Programm, das überprüft, ob eine eingegebene Zahl eine Primzahl ist. \n",
    "Falls es sich nicht um eine Primzahl handelt, soll ausgegeben werden, durch welche Zahlen die Zahl teilbar ist. "
   ]
  },
  {
   "cell_type": "markdown",
   "metadata": {},
   "source": [
    "## Aufgabe 4: (Zusatz)\n",
    "\n",
    "Erstellen Sie ein Programm, dass das Muster eines Tannenbaums ausgibt. "
   ]
  },
  {
   "cell_type": "markdown",
   "metadata": {},
   "source": [
    "## Aufgabe 5: (Zusatz)\n",
    "\n",
    "### Fibonacci-Zahlen\n",
    "\n",
    "Die unendliche Folge von natürlichen Zahlen, die mit zweimal der Zahl 1 beginnt\n",
    "Darauffolgende Zahlen sind jeweils die Summe der vorherigen\n",
    "\n",
    "1, \n",
    "1, \n",
    "**2** = 1+1, \n",
    "**3** = 2+1, \n",
    "**5** = 3+2, \n",
    "**8** = 5+3, ..."
   ]
  }
 ],
 "metadata": {
  "kernelspec": {
   "display_name": "base",
   "language": "python",
   "name": "python3"
  },
  "language_info": {
   "codemirror_mode": {
    "name": "ipython",
    "version": 3
   },
   "file_extension": ".py",
   "mimetype": "text/x-python",
   "name": "python",
   "nbconvert_exporter": "python",
   "pygments_lexer": "ipython3",
   "version": "3.10.9"
  }
 },
 "nbformat": 4,
 "nbformat_minor": 2
}

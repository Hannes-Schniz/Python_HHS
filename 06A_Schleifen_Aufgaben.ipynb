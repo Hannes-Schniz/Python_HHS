{
 "cells": [
  {
   "cell_type": "markdown",
   "metadata": {},
   "source": [
    "## Aufgabe 1: \n",
    "Erstellen Sie eine Wertetabelle für die Funktion 𝑦=𝑥^2\n",
    "Dabei soll der Wert für x über die Tastatur eingelesen werden. \n",
    "\n",
    "Erstellen Sie zunächst einen Programmablaufplan. \n",
    "\n",
    "Hinweis für das Programm: mit print(a,b,c, sep=\"??\") können Sie den ausgegebenen Seperator auf ?? setzen"
   ]
  },
  {
   "cell_type": "code",
   "execution_count": 2,
   "metadata": {},
   "outputs": [
    {
     "name": "stdout",
     "output_type": "stream",
     "text": [
      "9\n"
     ]
    }
   ],
   "source": [
    "x = int(input(\"Enter a number: \"))\n",
    "\n",
    "print(x*x)"
   ]
  },
  {
   "cell_type": "markdown",
   "metadata": {},
   "source": [
    "## Aufgabe 2: \n",
    "### Nach wie vielen Jahren hat sich das Kapital verdoppelt?\n",
    "\n",
    "Nach Eingabe von Anfangskapital und Zinssatz soll jeweils ausgegeben werden, wie hoch das Kapital ein Jahr später ist. \n",
    "Sobald sich das Kapital verdoppelt hat, soll das ausgegeben werden. \n",
    "\n",
    "Erstellen Sie zuerst einen PAP."
   ]
  },
  {
   "cell_type": "code",
   "execution_count": 4,
   "metadata": {},
   "outputs": [
    {
     "name": "stdout",
     "output_type": "stream",
     "text": [
      "214.35888099999997€ after 8 years\n"
     ]
    }
   ],
   "source": [
    "kapital = float(input(\"Enter the capital: \"))\n",
    "zinssatz = float(input(\"Enter the interest rate: \"))\n",
    "\n",
    "oldKapital = kapital\n",
    "\n",
    "years = 0\n",
    "\n",
    "while kapital < oldKapital*2:\n",
    "    kapital = kapital + kapital*zinssatz/100\n",
    "    years = years + 1\n",
    "print(f\"{kapital}€ after {years} years\")"
   ]
  },
  {
   "cell_type": "markdown",
   "metadata": {},
   "source": [
    "## Aufgabe 3: \n",
    "Erstellen Sie ein Programm, das überprüft, ob eine eingegebene Zahl eine Primzahl ist. \n",
    "Falls es sich nicht um eine Primzahl handelt, soll ausgegeben werden, durch welche Zahlen die Zahl teilbar ist. "
   ]
  },
  {
   "cell_type": "code",
   "execution_count": 17,
   "metadata": {},
   "outputs": [
    {
     "name": "stdout",
     "output_type": "stream",
     "text": [
      "Not a prime number\n"
     ]
    }
   ],
   "source": [
    "import sys\n",
    "\n",
    "input_number = int(input(\"Enter a number: \"))\n",
    "\n",
    "for number in range(2, input_number):\n",
    "    if input_number % number == 0:\n",
    "        print(\"Not a prime number\")\n",
    "        break\n",
    "\n",
    "else:\n",
    "    print(\"Prime number\")"
   ]
  },
  {
   "cell_type": "markdown",
   "metadata": {},
   "source": [
    "## Aufgabe 4: (Zusatz)\n",
    "\n",
    "Erstellen Sie ein Programm, dass das Muster eines Tannenbaums ausgibt. "
   ]
  },
  {
   "cell_type": "code",
   "execution_count": 32,
   "metadata": {},
   "outputs": [
    {
     "name": "stdout",
     "output_type": "stream",
     "text": [
      "           *\n",
      "          ***\n",
      "         *****\n",
      "        *******\n",
      "       *********\n",
      "      ***********\n",
      "     *************\n",
      "    ***************\n",
      "   *****************\n",
      "  *******************\n",
      " *********************\n",
      "***********************\n",
      "          | |\n"
     ]
    }
   ],
   "source": [
    "layers = int(input(\"Enter the number of layers: \"))\n",
    "\n",
    "bottom = layers * 2 - 1\n",
    "\n",
    "counter = 0\n",
    "\n",
    "while layers > 0:\n",
    "    builder = ' ' * int((bottom - counter) / 2) + '*' * (counter + 1)\n",
    "    layers = layers - 1\n",
    "    counter = counter + 2\n",
    "    print(builder)\n",
    "    \n",
    "print(' ' * (int(bottom / 2)-1) + '| |' )\n"
   ]
  },
  {
   "cell_type": "markdown",
   "metadata": {},
   "source": [
    "## Aufgabe 5: (Zusatz)\n",
    "\n",
    "### Fibonacci-Zahlen\n",
    "\n",
    "Die unendliche Folge von natürlichen Zahlen, die mit zweimal der Zahl 1 beginnt\n",
    "Darauffolgende Zahlen sind jeweils die Summe der vorherigen\n",
    "\n",
    "1, \n",
    "1, \n",
    "**2** = 1+1, \n",
    "**3** = 2+1, \n",
    "**5** = 3+2, \n",
    "**8** = 5+3, ..."
   ]
  },
  {
   "cell_type": "code",
   "execution_count": 37,
   "metadata": {},
   "outputs": [
    {
     "name": "stdout",
     "output_type": "stream",
     "text": [
      "0\n",
      "1\n",
      "1\n",
      "2\n",
      "3\n",
      "5\n",
      "8\n",
      "13\n",
      "21\n",
      "34\n"
     ]
    }
   ],
   "source": [
    "end_number = int(input(\"Enter a number: \"))\n",
    "counter = 0\n",
    "fibunacci = [0,1]\n",
    "while counter < end_number:\n",
    "    fibunacci.append(fibunacci[counter] + fibunacci[counter+1])\n",
    "    print(fibunacci[counter])\n",
    "    counter = counter + 1"
   ]
  }
 ],
 "metadata": {
  "kernelspec": {
   "display_name": "base",
   "language": "python",
   "name": "python3"
  },
  "language_info": {
   "codemirror_mode": {
    "name": "ipython",
    "version": 3
   },
   "file_extension": ".py",
   "mimetype": "text/x-python",
   "name": "python",
   "nbconvert_exporter": "python",
   "pygments_lexer": "ipython3",
   "version": "3.10.12"
  }
 },
 "nbformat": 4,
 "nbformat_minor": 2
}

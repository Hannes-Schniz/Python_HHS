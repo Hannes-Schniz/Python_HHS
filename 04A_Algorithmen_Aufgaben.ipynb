{
 "cells": [
  {
   "cell_type": "markdown",
   "metadata": {},
   "source": [
    "## Aufgabe 1: \n",
    "Ein Programm erfragt über die Eingabe einen Vornamen. Danach gibt es \"Guten Morgen\" und den Vornamen aus. \n",
    "  \n",
    "a) Erstellen Sie einen PAP zu diesem Programm.  \n",
    "b) Programmieren Sie das Programm."
   ]
  },
  {
   "cell_type": "code",
   "execution_count": 1,
   "metadata": {
    "tags": []
   },
   "outputs": [
    {
     "name": "stdout",
     "output_type": "stream",
     "text": [
      "Guten Morgen  Hannes\n"
     ]
    }
   ],
   "source": [
    "first_name=input(\"Enter your first name: \")\n",
    "print(\"Guten Morgen\",first_name)"
   ]
  },
  {
   "cell_type": "markdown",
   "metadata": {},
   "source": [
    "## Aufgabe 2: \n",
    "Ein Programm soll den Radius eines Kreises über die Tastatur einlesen, die Fläche berechnen und anschließend den Wert der Fläche ausgeben.  \n",
    "a) Erstellen Sie einen PAP zu diesem Programm.  \n",
    "b) Programmieren Sie das Programm.\n",
    "\n",
    "Hinweis: Für $ \\pi $ verwenden Sie in Python am besten folgende Zeilen:   \n",
    "`import math`  \n",
    "`pi = math.pi`"
   ]
  },
  {
   "cell_type": "code",
   "execution_count": 8,
   "metadata": {},
   "outputs": [
    {
     "name": "stdout",
     "output_type": "stream",
     "text": [
      "The area of the circle is:  28.274333882308138\n"
     ]
    }
   ],
   "source": [
    "import math as Math\n",
    "radius = float(input(\"Enter the radius of the circle: \"))\n",
    "area = Math.pi * radius ** 2\n",
    "print(\"The area of the circle is:\", area)"
   ]
  }
 ],
 "metadata": {
  "kernelspec": {
   "display_name": "base",
   "language": "python",
   "name": "python3"
  },
  "language_info": {
   "codemirror_mode": {
    "name": "ipython",
    "version": 3
   },
   "file_extension": ".py",
   "mimetype": "text/x-python",
   "name": "python",
   "nbconvert_exporter": "python",
   "pygments_lexer": "ipython3",
   "version": "3.10.12"
  },
  "orig_nbformat": 4
 },
 "nbformat": 4,
 "nbformat_minor": 2
}

{
 "cells": [
  {
   "cell_type": "markdown",
   "metadata": {},
   "source": [
    "Dieses Notbook bezieht sich auf das E-Book \"23_ExFS2_PGPY_kommentiert.pdf\n",
    "\n",
    "# Kap 7 Kontrollstrukturen\n",
    "\n",
    "Studieren Sie die Abschnitte des Kapitels 7. Probieren Sie die angegebenen Programmbeispiele aus. Machen Sie sich in diesem Notebook eigene Notizen."
   ]
  },
  {
   "cell_type": "markdown",
   "metadata": {},
   "source": [
    "Seite 79 - Syntax zur bedingten Anweisung in Python"
   ]
  },
  {
   "cell_type": "code",
   "execution_count": null,
   "metadata": {},
   "outputs": [],
   "source": []
  },
  {
   "cell_type": "markdown",
   "metadata": {},
   "source": [
    "..."
   ]
  }
 ],
 "metadata": {
  "kernelspec": {
   "display_name": "Python 3 (ipykernel)",
   "language": "python",
   "name": "python3"
  },
  "language_info": {
   "codemirror_mode": {
    "name": "ipython",
    "version": 3
   },
   "file_extension": ".py",
   "mimetype": "text/x-python",
   "name": "python",
   "nbconvert_exporter": "python",
   "pygments_lexer": "ipython3",
   "version": "3.11.5"
  }
 },
 "nbformat": 4,
 "nbformat_minor": 4
}

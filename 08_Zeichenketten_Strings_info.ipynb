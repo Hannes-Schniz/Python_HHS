{
 "cells": [
  {
   "cell_type": "markdown",
   "metadata": {},
   "source": [
    "# Zeichenketten (Strings)\n",
    "Neben numerischen Datentypen kennt Python auch Zeichenketten, die häufig mit dem englischen Ausdruck \"Strings\" bezeichnet werden. Zeichenkette bestehen aus einer **unveränderlichen** Folge - also Sequenz von beliebigen Zeichen.\n",
    "\n",
    "- https://www.w3schools.com/python/python_strings.asp"
   ]
  },
  {
   "cell_type": "code",
   "execution_count": null,
   "metadata": {},
   "outputs": [],
   "source": [
    "s1 = 'Ein String mit einfachen Quotes'\n",
    "s2 = \"Nachbar's Dackel heißt Waldi\"\n",
    "s3 = '''Er sagte \"Herr Meier's Dackel bellt immer!\" '''\n",
    "print(s1)\n",
    "print(s2)\n",
    "print(s3)"
   ]
  },
  {
   "cell_type": "code",
   "execution_count": null,
   "metadata": {},
   "outputs": [],
   "source": [
    "s4 = \"Ein String \\\n",
    "kann auch über \\\n",
    "mehrere Zeilen \\\n",
    "geschrieben werden \\\n",
    "und funktioniert auch mit ' '\"\n",
    "print(s4)\n",
    "print(len(s4))"
   ]
  },
  {
   "cell_type": "markdown",
   "metadata": {},
   "source": [
    "## Operationen mit Strings\n",
    "**Beachte:**  Alle String-Funktionen geben neue Werte zurück. Sie ändern die ursprüngliche Zeichenfolge nicht.\n",
    "- weitere Operationen siehe https://www.w3schools.com/python/python_strings.asp"
   ]
  },
  {
   "cell_type": "code",
   "execution_count": null,
   "metadata": {},
   "outputs": [],
   "source": [
    "a = \" Hallo,\" + \" Welt! \" # Strings verketten mit +\n",
    "print(a)           # \" Hallo, Welt! \"\n",
    "b = a.strip()     \n",
    "print(b)           # \"Hallo, Welt!\"\n",
    "c = b.lower()\n",
    "print(c)           # \"hallo, welt!\"\n",
    "d = b.upper()\n",
    "print(d)           # \"HALLO, WELT!\"\n",
    "f = \", \" in b      # gibt es auch mit not in\n",
    "print(f)           # True\n",
    "\n",
    "e = b.replace(\",\",\"\").replace(\"!\",\"\")\n",
    "print(e)           # \"Hallo Welt\"\n",
    "splittet = e.split(\" \") # Trenne am Trennzeichen \" \"\n",
    "print(splittet)    # ['Hallo', 'Welt']"
   ]
  },
  {
   "cell_type": "markdown",
   "metadata": {},
   "source": [
    "### Strings formatieren\n",
    "- siehe https://www.w3schools.com/python/ref_string_format.asp"
   ]
  },
  {
   "cell_type": "code",
   "execution_count": null,
   "metadata": {},
   "outputs": [],
   "source": [
    "txt1 = \"Sonderangebot: Nur {price:.2f} Euro!\"\n",
    "txt2 = txt1.format(price = 49.8976) \n",
    "print(txt2)"
   ]
  },
  {
   "cell_type": "markdown",
   "metadata": {},
   "source": [
    "### Bei Strings handelt es sich um einen sequenziellen Datentyp\n",
    "Die einzelnen Zeichen können infolgedessen wie bei einer Liste angesprochen werden."
   ]
  },
  {
   "cell_type": "code",
   "execution_count": null,
   "metadata": {},
   "outputs": [],
   "source": [
    "s = \"Hallo Welt!\"\n",
    "# Zeichen mittels Index auslesen\n",
    "for i in range(len(s)):\n",
    "    print(s[i])"
   ]
  },
  {
   "cell_type": "code",
   "execution_count": null,
   "metadata": {},
   "outputs": [],
   "source": [
    "# mit foreach-Schleife durchlaufen\n",
    "for c in s:\n",
    "    print(c)"
   ]
  },
  {
   "cell_type": "code",
   "execution_count": null,
   "metadata": {},
   "outputs": [],
   "source": [
    "# List Slicing funktioniert auch bei Strings\n",
    "print(s[6:])     # Welt!\n",
    "print(s[6:-1])   # Welt"
   ]
  },
  {
   "cell_type": "markdown",
   "metadata": {},
   "source": [
    "### Wie man eine Zeichenfolge in Python in der Reihenfolge umdrehen kann\n",
    "Angenommen s1 ist eine Zeichenkette. Die Slice-Notation in Python hat die Syntax `list[<start>:<stop>:<step>]`  \n",
    "Wenn Sie die Liste also mit `s1[::-1]` durchgehen, wird die Liste vom Ende zum Anfang durchlaufen, wobei jedes Element genommen wird. Dies funktioniert auch mit Listen/Tupel."
   ]
  },
  {
   "cell_type": "code",
   "execution_count": null,
   "metadata": {},
   "outputs": [],
   "source": [
    "s1 = \"Hello World\"\n",
    "s2 = s1[::-1]\n",
    "print(s2)\n",
    "print(s1==s2)  # Pallindrom?"
   ]
  },
  {
   "cell_type": "markdown",
   "metadata": {},
   "source": [
    "### Was funktioniert nicht!!"
   ]
  },
  {
   "cell_type": "code",
   "execution_count": null,
   "metadata": {},
   "outputs": [],
   "source": [
    "# str und int können nicht mit dem + Operator verküpft werden\n",
    "age = 17\n",
    "s = \"Hallo\"\n",
    "txt = \"My name is John, I am \" + age\n",
    "print(txt)\n",
    "# wenn dann so!!\n",
    "#txt = \"My name is John, I am \" + str(age)\n",
    "#print(txt)"
   ]
  },
  {
   "cell_type": "code",
   "execution_count": null,
   "metadata": {},
   "outputs": [],
   "source": [
    "# Eine Zeichenkette ist unveränderlich (immutable)\n",
    "# Es können also auch keine einzelnen Zeichen in der Zeichenkette ersetzt werden.\n",
    "s = \"Hello Welt\"\n",
    "s[1] = \"a\""
   ]
  }
 ],
 "metadata": {
  "kernelspec": {
   "display_name": "Python 3 (ipykernel)",
   "language": "python",
   "name": "python3"
  },
  "language_info": {
   "codemirror_mode": {
    "name": "ipython",
    "version": 3
   },
   "file_extension": ".py",
   "mimetype": "text/x-python",
   "name": "python",
   "nbconvert_exporter": "python",
   "pygments_lexer": "ipython3",
   "version": "3.11.5"
  }
 },
 "nbformat": 4,
 "nbformat_minor": 4
}

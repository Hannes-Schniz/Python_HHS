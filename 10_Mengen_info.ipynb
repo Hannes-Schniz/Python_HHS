{
 "cells": [
  {
   "cell_type": "markdown",
   "metadata": {},
   "source": [
    "# Mengen\n",
    "Links: \n",
    "- [Gute, ausführliche Einführung in Mengen, inkl. Venn-Diagrammen)](http://openbook.rheinwerk-verlag.de/python/15_001.html)"
   ]
  },
  {
   "cell_type": "markdown",
   "metadata": {},
   "source": [
    "Mengen (sets) funktionieren in Python genau wie in der Mathematik:\n",
    "\n",
    "- Mengen sind *ungeordnet*, d.h. die Reihenfolge, in der die Elemente angegeben/eingefügt werden, spielt keine Rolle\n",
    "- Ein Wert kann *nicht mehrfach* in einer Menge vorkommen, d.h. eine Menge bestimmt nur, ob ein Wert Teil der Menge oder nicht.\n",
    "- (allerdings ist seit Python 3.7 garantiert, dass die Elemente in der Reihenfolge gespeichert werden, in der sie eingefügt wurden. Das ändert aber *nichts* daran, dass {1, 2, 3} == {3, 2, 1} gilt!!!) "
   ]
  },
  {
   "cell_type": "code",
   "execution_count": 20,
   "metadata": {},
   "outputs": [
    {
     "name": "stdout",
     "output_type": "stream",
     "text": [
      "True\n",
      "True\n",
      "True\n",
      "True\n",
      "<class 'set'>\n",
      "<class 'dict'>\n",
      "{10, 11, 12}\n"
     ]
    }
   ],
   "source": [
    "# Die folgenden Mengen sind alle gleich:\n",
    "menge1 = {1, 2, 3} \n",
    "menge2 = {3, 2, 1}   # ungeordnet, d.h. Reihenfolge beim Erstellen/Einfügen egal\n",
    "menge3 = {1, 1, 1, 1, 2, 3}   # mehrfaches Einfügen egal \n",
    "\n",
    "print(menge1 == menge2 == menge3)  \n",
    "print(1 in menge1)\n",
    "print(4 not in menge2)\n",
    "print(menge1.issubset({5, 2, 1, 4, 3}))\n",
    "\n",
    "# Achtung: Dictionaries und Mengen nutzen beide die {geschweiften} Klammern.\n",
    "ein_dict = {1: 2, 3: 4}    # am Doppelpunkt erkennt man ein dict-Literal\n",
    "eine_menge = {1, 2, 3, 4}\n",
    "print(type(eine_menge))   # Ausgabe: <class 'set'>\n",
    "print(type(ein_dict))       # Ausgabe: <class 'dict'>\n",
    "\n",
    "# Leere Menge vs leeres Dict\n",
    "leeres_dict = {}       # diese Notation war schon lange für ein leeres Dictionary vergeben... \n",
    "leere_menge = set()    # ...also nutzt man für leere Mengen den Konstruktor set()\n",
    "\n",
    "# Aus einer anderen Datenstruktur eine Menge erzeugen\n",
    "liste = [10, 11, 12]\n",
    "neue_menge = set(liste)\n",
    "print(neue_menge)"
   ]
  },
  {
   "cell_type": "markdown",
   "metadata": {},
   "source": [
    "#### Operationen auf Mengen"
   ]
  },
  {
   "cell_type": "code",
   "execution_count": 21,
   "metadata": {},
   "outputs": [
    {
     "name": "stdout",
     "output_type": "stream",
     "text": [
      "{2, 3, 4, 5}\n",
      "{2, 3, 4, 5, 6, 7, 8, 9, 10}\n"
     ]
    }
   ],
   "source": [
    "menge = {1, 2, 3, 4}\n",
    "\n",
    "menge.add(5)       # Hinzufügen *eines* Elements\n",
    "menge.remove(1)    # Entfernen *eines* Elements\n",
    "print(menge)\n",
    "\n",
    "# *Mehrere* Elemente hinzufügen mithilfe der Mengenvereinigung:\n",
    "menge = menge.union({6, 7, 8})   \n",
    "menge = menge | {6, 7, 8}   # oder so: Operator | entspricht Methode union()\n",
    "menge |= {6, 7, 8}     # Kurzfassung: |= ist sozusagen das += für Mengen \n",
    "\n",
    "menge |= set([9, 10])   # andere Datentypen müssen erst in eine Menge umgewandelt werden\n",
    "\n",
    "print(menge)"
   ]
  },
  {
   "cell_type": "markdown",
   "metadata": {},
   "source": [
    "Python stellt für die wichtigsten Mengenoperationen nicht nur *Methoden*, sondern praktische *Operatoren* zur Verfügung:\n",
    "- Vereinigung: Operator: `|`   (entspricht der Methode `menge.union()`)\n",
    "- Schnitt: `&` (entspricht der Methode `menge.intersection()`)\n",
    "- Mengendifferenz: `-`"
   ]
  },
  {
   "cell_type": "code",
   "execution_count": 22,
   "metadata": {},
   "outputs": [],
   "source": [
    "freunde = {\"Tina\", \"Tom\", \"Anna\", \"Otto\", \"Tim\", \"Sandra\"}\n",
    "mitschueler = {\"Horst\", \"Theo\", \"Anna\", \"Zara\", \"Tom\", \"Mike\", \"Tina\"}"
   ]
  },
  {
   "cell_type": "code",
   "execution_count": 23,
   "metadata": {},
   "outputs": [
    {
     "data": {
      "text/plain": [
       "{'Anna', 'Tina', 'Tom'}"
      ]
     },
     "execution_count": 23,
     "metadata": {},
     "output_type": "execute_result"
    }
   ],
   "source": [
    "freunde & mitschueler   # Freunde, die Mitschüler sind"
   ]
  },
  {
   "cell_type": "code",
   "execution_count": 24,
   "metadata": {},
   "outputs": [
    {
     "data": {
      "text/plain": [
       "{'Anna',\n",
       " 'Horst',\n",
       " 'Mike',\n",
       " 'Otto',\n",
       " 'Sandra',\n",
       " 'Theo',\n",
       " 'Tim',\n",
       " 'Tina',\n",
       " 'Tom',\n",
       " 'Zara'}"
      ]
     },
     "execution_count": 24,
     "metadata": {},
     "output_type": "execute_result"
    }
   ],
   "source": [
    "freunde | mitschueler   # Freunde oder Mitschüler"
   ]
  },
  {
   "cell_type": "code",
   "execution_count": 25,
   "metadata": {},
   "outputs": [
    {
     "data": {
      "text/plain": [
       "{'Otto', 'Sandra', 'Tim'}"
      ]
     },
     "execution_count": 25,
     "metadata": {},
     "output_type": "execute_result"
    }
   ],
   "source": [
    "freunde - mitschueler   # Freunde, die keine Mitschüler sind"
   ]
  },
  {
   "cell_type": "code",
   "execution_count": 26,
   "metadata": {},
   "outputs": [
    {
     "data": {
      "text/plain": [
       "{'Horst', 'Mike', 'Theo', 'Zara'}"
      ]
     },
     "execution_count": 26,
     "metadata": {},
     "output_type": "execute_result"
    }
   ],
   "source": [
    "mitschueler - freunde   # Mitschüler, mit denen ich nicht befreundet bin"
   ]
  },
  {
   "cell_type": "markdown",
   "metadata": {},
   "source": [
    "Weitere Operatoren und Methoden: s. http://openbook.rheinwerk-verlag.de/python/15_001.html#u15.1.1"
   ]
  },
  {
   "cell_type": "markdown",
   "metadata": {},
   "source": [
    "#### Set comprehensions\n",
    "*Set comprehensions* funktionieren wie *list comprehensions*, erzeugen aber Mengen:<br>\n",
    "Hier werden die Quadratzahlen von 1-9 als Set erzeugt."
   ]
  },
  {
   "cell_type": "code",
   "execution_count": 1,
   "metadata": {},
   "outputs": [
    {
     "data": {
      "text/plain": [
       "{1, 4, 9, 16, 25, 36, 49, 64, 81}"
      ]
     },
     "execution_count": 1,
     "metadata": {},
     "output_type": "execute_result"
    }
   ],
   "source": [
    "{a*a for a in range(1,10)}"
   ]
  },
  {
   "cell_type": "markdown",
   "metadata": {},
   "source": [
    "Nochmal als Vergleich als list comprehension"
   ]
  },
  {
   "cell_type": "code",
   "execution_count": 2,
   "metadata": {},
   "outputs": [
    {
     "data": {
      "text/plain": [
       "[1, 4, 9, 16, 25, 36, 49, 64, 81]"
      ]
     },
     "execution_count": 2,
     "metadata": {},
     "output_type": "execute_result"
    }
   ],
   "source": [
    "[a*a for a in range(1,10)]"
   ]
  },
  {
   "cell_type": "markdown",
   "metadata": {},
   "source": [
    "Alle namen in der vereinten Menge von Freunden und Mitschüler, dessen Name mit T beginnt"
   ]
  },
  {
   "cell_type": "code",
   "execution_count": 27,
   "metadata": {},
   "outputs": [
    {
     "data": {
      "text/plain": [
       "{'Theo', 'Tim', 'Tina', 'Tom'}"
      ]
     },
     "execution_count": 27,
     "metadata": {},
     "output_type": "execute_result"
    }
   ],
   "source": [
    "{ name for name in freunde | mitschueler if name.startswith('T') }"
   ]
  },
  {
   "cell_type": "markdown",
   "metadata": {},
   "source": [
    "Das ist sehr nahe an der mathematischen Schreibweise: $\\{n \\in f \\cup m \\; | \\; n \\; \\text{beginnt mit T} \\}$"
   ]
  }
 ],
 "metadata": {
  "kernelspec": {
   "display_name": "Python 3 (ipykernel)",
   "language": "python",
   "name": "python3"
  },
  "language_info": {
   "codemirror_mode": {
    "name": "ipython",
    "version": 3
   },
   "file_extension": ".py",
   "mimetype": "text/x-python",
   "name": "python",
   "nbconvert_exporter": "python",
   "pygments_lexer": "ipython3",
   "version": "3.9.12"
  }
 },
 "nbformat": 4,
 "nbformat_minor": 4
}

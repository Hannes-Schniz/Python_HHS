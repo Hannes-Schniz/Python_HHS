{
 "cells": [
  {
   "cell_type": "markdown",
   "metadata": {},
   "source": [
    "## Variablen und Konstanten\n",
    "\n",
    "In der strukturierten Programmentwicklung ist ein Objekt durch einen **Wert**, einen **Bezeichner** (Namen) und einen **Datentyp** charakterisiert.\n",
    "Beispiel: \n",
    "\n",
    "`int lehrjahr = 2`\n",
    "\n",
    "In Python muss der Datentyp nicht explizit angegeben werden. \n",
    "Python legt im Gegensatz zu vielen anderen Programmiersprachen erst zur Laufzeit den Datentyp von Variablen fest.  \n",
    "Dieser kann sich auch im Laufe des Programms ändern.  \n",
    "Hierfür gibt es den Fachbegriff **dynamische Typisierung** (dynamic typing).\n",
    "\n",
    "\n",
    "Können die Werte eines Objekts zur Programmlaufzeit verändert werden, so spricht man von **Variablen**.   \n",
    "Können die Werte eines Objekts zur Programmlaufzeit nicht mehr verändert werden, so spricht man von **Konstanten**. \n",
    "\n",
    "## Mögliche Datentypen\n",
    "\n",
    "| **Kategorie**        | **Datentyp** | **Deutsche Bezeichnung** |\n",
    "|----------------------|--------------|--------------------------|\n",
    "| Numerischer Datentyp | int          | Ganzzahl                 |\n",
    "| Numerischer Datentyp | float        | Fließkommazahl           |\n",
    "| Text                 | str          | Zeichenkette             |\n",
    "| Boolean              | bool         | Wahrheitswert            |\n",
    "\n",
    "\n",
    "\n",
    "## Beispiele für Variablen\n",
    "\n",
    "|     Beispiel              |     Name             |     Wert            |     Datentyp          |\n",
    "|---------------------------|----------------------|---------------------|-----------------------|\n",
    "|     anzahl=9              |     anzahl           |     9               |     Ganzzahl          |\n",
    "|     nummer=15             |     nummer           |     15              |     Ganzzahl          |\n",
    "|     pi=3.14               |     pi               |     3.14            |     Fließkommazahl    |\n",
    "|     name=“E2RF“           |     name             |     “E2RF“          |     Zeichenkette      |\n",
    "|     essen=“Schokolade“    |     essen            |     “Schokolade“    |     Zeichenkette      |\n",
    "|     wahrheitswert=true    |     wahrheitswert    |     1  , True             |     Wahrheitswert     |\n",
    "|     boolean=false         |     boolean          |     0   , False            |     Wahrheitswert     |"
   ]
  },
  {
   "cell_type": "code",
   "execution_count": 10,
   "metadata": {},
   "outputs": [
    {
     "name": "stdout",
     "output_type": "stream",
     "text": [
      "anzahl = 9\n",
      "<class 'int'>\n",
      "nummer = 15\n",
      "<class 'int'>\n",
      "pi = 3.14\n",
      "<class 'float'>\n",
      "name = E2RF\n",
      "<class 'str'>\n",
      "essen = Schokolade\n",
      "<class 'str'>\n",
      "wahrheitswert = True\n",
      "<class 'bool'>\n",
      "boolean = False\n",
      "<class 'bool'>\n"
     ]
    }
   ],
   "source": [
    "anzahl=9\n",
    "print('anzahl =', anzahl)\n",
    "print(type(anzahl))\n",
    "\n",
    "nummer=15\n",
    "print('nummer =', nummer)\n",
    "print(type(nummer))\n",
    "\n",
    "pi=3.14\n",
    "print('pi =', pi)\n",
    "print(type(pi))\n",
    "\n",
    "name=\"E2RF\"\n",
    "print('name =', name)\n",
    "print(type(name))\n",
    "\n",
    "essen=\"Schokolade\"\n",
    "print('essen =', essen)\n",
    "print(type(essen))\n",
    "\n",
    "wahrheitswert=True\n",
    "print('wahrheitswert =', wahrheitswert)\n",
    "print(type(wahrheitswert))\n",
    "\n",
    "boolean = False \n",
    "print('boolean =', boolean)\n",
    "print(type(boolean))\n"
   ]
  },
  {
   "cell_type": "markdown",
   "metadata": {},
   "source": [
    "## Gültige Variablennamen\n",
    "\n",
    " ### Regeln:\n",
    " Die Regeln müssen eingehalten werdden, damit keine Fehlermeldungen kommen: \n",
    " - Der Name muss mit einem Buchstaben oder einem Unterstrich beginnen\n",
    "  - Der Name darf nur alphanumerische Zeichen und Unterstriche enthalten\n",
    "  - Also: KEINE Sonderzeichen, Leerzeichen, Umlaute\n",
    "   - Python ist case-sensitive (Unterscheidung zwischen Groß- und Kleinschreibung)\n",
    "\n",
    "  ### Konvention: \n",
    "  Konventionen sind Regeln, die sich Programmierer dabei selber auferlegen. Der Python-Interpreter würde also eine Verletzung einer solchen Konvention nicht anmeckern. Aber der Programmier-Freund am Nachbartisch. Die Konvention soll ihm nämlich helfen, den Code besser zu verstehen. Dabei folgt die Namensgebung bestimmten Regeln.\n",
    " -  Mehrere Worte werden durch Unterstriche getrennt\n",
    "  - Kleinschreibung wird verwendet\n",
    "  - Die Schreibweise sollte für alle Variablen einheitlich gewählt werden\n",
    "   - \"Sprechende\" Variablennamen\n",
    "\n",
    "  \n",
    "## Beispiele: \n",
    "\n"
   ]
  },
  {
   "cell_type": "code",
   "execution_count": 14,
   "metadata": {},
   "outputs": [
    {
     "name": "stdout",
     "output_type": "stream",
     "text": [
      "17\n",
      "23\n"
     ]
    }
   ],
   "source": [
    "meine_primzahl=17\n",
    "meine_Primzahl=23\n",
    "#entspricht nicht der Konvention!!\n",
    "print(meine_primzahl)\n",
    "print(meine_Primzahl)"
   ]
  }
 ],
 "metadata": {
  "kernelspec": {
   "display_name": "Python 3",
   "language": "python",
   "name": "python3"
  },
  "language_info": {
   "codemirror_mode": {
    "name": "ipython",
    "version": 3
   },
   "file_extension": ".py",
   "mimetype": "text/x-python",
   "name": "python",
   "nbconvert_exporter": "python",
   "pygments_lexer": "ipython3",
   "version": "3.7.3"
  }
 },
 "nbformat": 4,
 "nbformat_minor": 2
}

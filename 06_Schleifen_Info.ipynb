{
 "cells": [
  {
   "cell_type": "markdown",
   "metadata": {},
   "source": [
    "## Schleifen in Python\n",
    "\n",
    "### Aufbau der while-Schleife\n",
    "\n",
    " - beginnt immer mit while\n",
    " - danach Bedingung, die erfüllt sein muss\n",
    " - Anweisungen, die ausgeführt werden, solange die Bedingung erfüllt ist\n",
    "\n",
    "`while  Bedingung:  `<br>\n",
    "  <font color=\"white\"> ......</font> `Anweisung `  <br>\n",
    "\n",
    "\n",
    "**Wichtig dabei sind alle Zeichen, auch die Einrückungen!**  \n",
    "\n",
    "### Beispiel: "
   ]
  },
  {
   "cell_type": "code",
   "execution_count": null,
   "metadata": {},
   "outputs": [],
   "source": [
    "i = 10\n",
    "while i>0 :\n",
    "    print(i)\n",
    "    i = i-1\n",
    "print(\"Fertig\")"
   ]
  },
  {
   "cell_type": "markdown",
   "metadata": {},
   "source": [
    "### Aufbau der for-Schleife\n",
    "\n",
    " - beginnt immer mit for\n",
    " - danach \"Werte\", die eine Variable durchläuft\n",
    " - Anweisungen, die ausgeführt werden, während die \"Werte durchlaufen werden\n",
    "\n",
    "`for  x in  ... :  `<br>\n",
    "  <font color=\"white\"> ......</font> `Anweisung `  <br>\n",
    "\n",
    "\n",
    "**Wichtig dabei sind alle Zeichen, auch die Einrückungen!**  \n",
    "\n",
    "`for  x in  range(5) :  `<br>\n",
    "zählt von 0 bis <5, Schrittweite 1\n",
    "\n",
    "`for  x in  range(3,5) :  `<br>\n",
    "zählt von 3 bis <5, Schrittweite 1\n",
    "\n",
    "`for  x in  range(2,12,2) :  `<br>\n",
    "zählt von 2 bis <12, Schrittweite 2\n",
    "\n",
    "### Beispiel: "
   ]
  },
  {
   "cell_type": "code",
   "execution_count": null,
   "metadata": {},
   "outputs": [],
   "source": [
    "## Beispiel 1, eher unüblich \n",
    "fruits = [\"apple\", \"banana\", \"cherry\"]\n",
    "for x in fruits:\n",
    "    print(x)\n",
    "\n",
    "## Beispiel 2, eher unüblich\n",
    "for x in \"banana\":\n",
    "    print(x)\n",
    "\n",
    "## Beispiel 3,  zähle von 0 bis < 5 , Schrittweite 1\n",
    "for i in range(5):\n",
    "    print(i)\n",
    "\n",
    "## Beispiel 4,  zähle von 3 bis < 5 , Schrittweite 1\n",
    "for i in range(3,5):\n",
    "    print(i)\n",
    "\n",
    "## Beispiel 5,  zähle von 2 bis < 12, Schrittweite 2\n",
    "for i in range(2,12,2):\n",
    "    print(i)\n"
   ]
  },
  {
   "cell_type": "code",
   "execution_count": null,
   "metadata": {},
   "outputs": [],
   "source": []
  }
 ],
 "metadata": {
  "kernelspec": {
   "display_name": "Python 3",
   "language": "python",
   "name": "python3"
  },
  "language_info": {
   "codemirror_mode": {
    "name": "ipython",
    "version": 3
   },
   "file_extension": ".py",
   "mimetype": "text/x-python",
   "name": "python",
   "nbconvert_exporter": "python",
   "pygments_lexer": "ipython3",
   "version": "3.7.3"
  }
 },
 "nbformat": 4,
 "nbformat_minor": 2
}

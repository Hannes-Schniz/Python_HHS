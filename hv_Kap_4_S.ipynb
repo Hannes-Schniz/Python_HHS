{
 "cells": [
  {
   "cell_type": "markdown",
   "metadata": {},
   "source": [
    "Dieses Notbook bezieht sich auf das E-Book \"23_ExFS2_PGPY_kommentiert.pdf\n",
    "\n",
    "# Kap 4 Werkzeuge der Softwareentwicklung\n",
    "\n",
    "Studieren Sie die Abschnitte des Kapitels 4.\n",
    "Probieren Sie die angegebenen Programmbeispiele aus.\n",
    "Machen Sie sich in diesem Notebook eigene Notizen."
   ]
  },
  {
   "cell_type": "markdown",
   "metadata": {},
   "source": [
    "Seite 41 - Printanweisung"
   ]
  },
  {
   "cell_type": "code",
   "execution_count": 1,
   "metadata": {
    "scrolled": true
   },
   "outputs": [
    {
     "name": "stdout",
     "output_type": "stream",
     "text": [
      "Hello World\n"
     ]
    }
   ],
   "source": [
    "print(\"Hello World\")"
   ]
  },
  {
   "cell_type": "markdown",
   "metadata": {},
   "source": [
    "Seite 43 - Eine Python-Anwendung mit Hauptfunktion erstellen"
   ]
  },
  {
   "cell_type": "code",
   "execution_count": 3,
   "metadata": {},
   "outputs": [
    {
     "name": "stdout",
     "output_type": "stream",
     "text": [
      "test\n"
     ]
    }
   ],
   "source": [
    "def main():\n",
    "    print(\"test\")\n",
    "\n",
    "main()"
   ]
  },
  {
   "cell_type": "markdown",
   "metadata": {},
   "source": [
    "Seite 44 - Eine objektorientierte Python-Anwendung erstellen"
   ]
  },
  {
   "cell_type": "code",
   "execution_count": 12,
   "metadata": {},
   "outputs": [
    {
     "name": "stdout",
     "output_type": "stream",
     "text": [
      "10\n",
      "2\n",
      "Brandnerstr 1\n"
     ]
    }
   ],
   "source": [
    "class House:\n",
    "    size=10\n",
    "    stories=2\n",
    "    address=\"Brandnerstr 1\"\n",
    "\n",
    "    def getPrint(self):\n",
    "        print(self.size)\n",
    "        print(self.stories)\n",
    "        print(self.address)\n",
    "\n",
    "house = House()\n",
    "house.getPrint()"
   ]
  }
 ],
 "metadata": {
  "kernelspec": {
   "display_name": "Python 3 (ipykernel)",
   "language": "python",
   "name": "python3"
  },
  "language_info": {
   "codemirror_mode": {
    "name": "ipython",
    "version": 3
   },
   "file_extension": ".py",
   "mimetype": "text/x-python",
   "name": "python",
   "nbconvert_exporter": "python",
   "pygments_lexer": "ipython3",
   "version": "3.11.5"
  }
 },
 "nbformat": 4,
 "nbformat_minor": 4
}

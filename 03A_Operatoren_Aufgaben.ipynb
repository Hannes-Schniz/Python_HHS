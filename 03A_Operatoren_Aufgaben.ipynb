{
  "cells": [
    {
      "cell_type": "markdown",
      "metadata": {},
      "source": [
        "## Aufgabe 1: \n",
        "Ein Apfel kostet 1,09€. Es werden 4 Äpfel gekauft. Wie teuer ist der Einkauf?\n",
        "Legen Sie alle Werte als Variablen an und lassen Sie sich den Endpreis ausgeben. \n"
      ]
    },
    {
      "cell_type": "code",
      "execution_count": 1,
      "metadata": {},
      "outputs": [
        {
          "name": "stdout",
          "output_type": "stream",
          "text": [
            "The price of an apple is:  4.36\n"
          ]
        }
      ],
      "source": [
        "\n",
        "price_apple=1.09\n",
        "amount_apple=4\n",
        "print(\"The price of an apple is: \", price_apple*amount_apple)"
      ]
    },
    {
      "cell_type": "markdown",
      "metadata": {},
      "source": [
        "## Aufgabe 2:\n",
        "Wandeln Sie 12345 Sekunden in Stunden, Minuten und Sekunden um. Geben Sie Ihr Ergebnis in folgendem Format aus: hh:mm:ss"
      ]
    },
    {
      "cell_type": "code",
      "execution_count": 28,
      "metadata": {
        "trusted": true
      },
      "outputs": [
        {
          "name": "stdout",
          "output_type": "stream",
          "text": [
            "3 : 25 : 45\n"
          ]
        }
      ],
      "source": [
        "total_seconds=12345\n",
        "hours=total_seconds//3600\n",
        "minutes=(total_seconds%3600)//60\n",
        "seconds=(total_seconds%3600)%60\n",
        "print(hours , \":\", minutes, \":\", seconds)"
      ]
    },
    {
      "cell_type": "code",
      "execution_count": null,
      "metadata": {},
      "outputs": [],
      "source": []
    },
    {
      "cell_type": "markdown",
      "metadata": {},
      "source": [
        "## Aufgabe 3: \n",
        "Lesen Sie eine beliebige Anzahl von Sekunden ein. Wandeln Sie die Sekunden in Stunden, Minuten und Sekunden um. Geben Sie Ihr Ergebnis in folgendem Format aus: hh:mm:ss\n"
      ]
    },
    {
      "cell_type": "code",
      "execution_count": 2,
      "metadata": {},
      "outputs": [
        {
          "ename": "TypeError",
          "evalue": "object int can't be used in 'await' expression",
          "output_type": "error",
          "traceback": [
            "\u001b[0;31m---------------------------------------------------------------------------\u001b[0m",
            "\u001b[0;31mTypeError\u001b[0m                                 Traceback (most recent call last)",
            "Cell \u001b[0;32mIn[2], line 1\u001b[0m\n\u001b[0;32m----> 1\u001b[0m total_seconds\u001b[38;5;241m=\u001b[39m\u001b[38;5;28;01mawait\u001b[39;00m \u001b[38;5;28mint\u001b[39m(\u001b[38;5;28minput\u001b[39m(\u001b[38;5;124m\"\u001b[39m\u001b[38;5;124mEnter the total seconds: \u001b[39m\u001b[38;5;124m\"\u001b[39m))\n\u001b[1;32m      2\u001b[0m hours\u001b[38;5;241m=\u001b[39mtotal_seconds\u001b[38;5;241m/\u001b[39m\u001b[38;5;241m/\u001b[39m\u001b[38;5;241m3600\u001b[39m\n\u001b[1;32m      3\u001b[0m minutes\u001b[38;5;241m=\u001b[39m(total_seconds\u001b[38;5;241m%\u001b[39m\u001b[38;5;241m3600\u001b[39m)\u001b[38;5;241m/\u001b[39m\u001b[38;5;241m/\u001b[39m\u001b[38;5;241m60\u001b[39m\n",
            "\u001b[0;31mTypeError\u001b[0m: object int can't be used in 'await' expression"
          ]
        }
      ],
      "source": [
        "total_seconds=await int(input(\"Enter the total seconds: \"))\n",
        "hours=total_seconds//3600\n",
        "minutes=(total_seconds%3600)//60\n",
        "seconds=(total_seconds%3600)%60\n",
        "print(hours , \":\", minutes, \":\", seconds)"
      ]
    }
  ],
  "metadata": {
    "kernelspec": {
      "display_name": "Python 3",
      "language": "python",
      "name": "python3"
    },
    "language_info": {
      "codemirror_mode": {
        "name": "ipython",
        "version": 3
      },
      "file_extension": ".py",
      "mimetype": "text/x-python",
      "name": "python",
      "nbconvert_exporter": "python",
      "pygments_lexer": "ipython3",
      "version": "3.10.12"
    }
  },
  "nbformat": 4,
  "nbformat_minor": 4
}

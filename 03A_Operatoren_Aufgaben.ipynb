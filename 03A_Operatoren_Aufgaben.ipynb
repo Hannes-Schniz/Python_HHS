{
  "cells": [
    {
      "cell_type": "markdown",
      "metadata": {},
      "source": [
        "## Aufgabe 1: \n",
        "Ein Apfel kostet 1,09€. Es werden 4 Äpfel gekauft. Wie teuer ist der Einkauf?\n",
        "Legen Sie alle Werte als Variablen an und lassen Sie sich den Endpreis ausgeben. \n"
      ]
    },
    {
      "cell_type": "code",
      "execution_count": 2,
      "metadata": {},
      "outputs": [
        {
          "name": "stdout",
          "output_type": "stream",
          "text": [
            "4.36\n"
          ]
        }
      ],
      "source": [
        "\n"
      ]
    },
    {
      "cell_type": "markdown",
      "metadata": {},
      "source": [
        "## Aufgabe 2:\n",
        "Wandeln Sie 12345 Sekunden in Stunden, Minuten und Sekunden um. Geben Sie Ihr Ergebnis in folgendem Format aus: hh:mm:ss"
      ]
    },
    {
      "cell_type": "code",
      "execution_count": 2,
      "metadata": {
        "trusted": true
      },
      "outputs": [
        {
          "name": "stdout",
          "output_type": "stream",
          "text": [
            "3 : 25 : 45\n"
          ]
        }
      ],
      "source": []
    },
    {
      "cell_type": "markdown",
      "metadata": {},
      "source": [
        "## Aufgabe 3: \n",
        "Lesen Sie eine beliebige Anzahl von Sekunden ein. Wandeln Sie die Sekunden in Stunden, Minuten und Sekunden um. Geben Sie Ihr Ergebnis in folgendem Format aus: hh:mm:ss\n"
      ]
    },
    {
      "cell_type": "code",
      "execution_count": null,
      "metadata": {},
      "outputs": [],
      "source": []
    }
  ],
  "metadata": {
    "kernelspec": {
      "display_name": "Python (Pyodide)",
      "language": "python",
      "name": "python"
    },
    "language_info": {
      "codemirror_mode": {
        "name": "python",
        "version": 3
      },
      "file_extension": ".py",
      "mimetype": "text/x-python",
      "name": "python",
      "nbconvert_exporter": "python",
      "pygments_lexer": "ipython3",
      "version": "3.8"
    }
  },
  "nbformat": 4,
  "nbformat_minor": 4
}

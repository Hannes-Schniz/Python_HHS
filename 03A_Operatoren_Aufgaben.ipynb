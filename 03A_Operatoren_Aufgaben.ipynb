{
  "cells": [
    {
      "cell_type": "markdown",
      "metadata": {},
      "source": [
        "## Aufgabe 1: \n",
        "Ein Apfel kostet 1,09€. Es werden 4 Äpfel gekauft. Wie teuer ist der Einkauf?\n",
        "Legen Sie alle Werte als Variablen an und lassen Sie sich den Endpreis ausgeben. \n"
      ]
    },
    {
      "cell_type": "code",
      "execution_count": 1,
      "metadata": {},
      "outputs": [
        {
          "name": "stdout",
          "output_type": "stream",
          "text": [
            "The price of an apple is:  4.36\n"
          ]
        }
      ],
      "source": [
        "\n",
        "price_apple=1.09\n",
        "amount_apple=4\n",
        "print(\"The price of an apple is: \", price_apple*amount_apple)"
      ]
    },
    {
      "cell_type": "markdown",
      "metadata": {},
      "source": [
        "## Aufgabe 2:\n",
        "Wandeln Sie 12345 Sekunden in Stunden, Minuten und Sekunden um. Geben Sie Ihr Ergebnis in folgendem Format aus: hh:mm:ss"
      ]
    },
    {
      "cell_type": "code",
      "execution_count": 28,
      "metadata": {
        "trusted": true
      },
      "outputs": [
        {
          "name": "stdout",
          "output_type": "stream",
          "text": [
            "3 : 25 : 45\n"
          ]
        }
      ],
      "source": [
        "total_seconds=12345\n",
        "hours=total_seconds//3600\n",
        "minutes=(total_seconds%3600)//60\n",
        "seconds=(total_seconds%3600)%60\n",
        "print(hours , \":\", minutes, \":\", seconds)"
      ]
    },
    {
      "cell_type": "markdown",
      "metadata": {},
      "source": [
        "## Aufgabe 3: \n",
        "Lesen Sie eine beliebige Anzahl von Sekunden ein. Wandeln Sie die Sekunden in Stunden, Minuten und Sekunden um. Geben Sie Ihr Ergebnis in folgendem Format aus: hh:mm:ss\n"
      ]
    },
    {
      "cell_type": "code",
      "execution_count": 1,
      "metadata": {},
      "outputs": [
        {
          "name": "stdout",
          "output_type": "stream",
          "text": [
            "0 : 0 : 3\n"
          ]
        }
      ],
      "source": [
        "total_seconds=int(input(\"Enter the total seconds: \"))\n",
        "hours=total_seconds//3600\n",
        "minutes=(total_seconds%3600)//60\n",
        "seconds=(total_seconds%3600)%60\n",
        "print(hours , \":\", minutes, \":\", seconds)"
      ]
    }
  ],
  "metadata": {
    "kernelspec": {
      "display_name": "Python 3",
      "language": "python",
      "name": "python3"
    },
    "language_info": {
      "codemirror_mode": {
        "name": "ipython",
        "version": 3
      },
      "file_extension": ".py",
      "mimetype": "text/x-python",
      "name": "python",
      "nbconvert_exporter": "python",
      "pygments_lexer": "ipython3",
      "version": "3.10.12"
    }
  },
  "nbformat": 4,
  "nbformat_minor": 4
}

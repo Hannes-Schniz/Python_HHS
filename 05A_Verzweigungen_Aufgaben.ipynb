{
 "cells": [
  {
   "cell_type": "markdown",
   "metadata": {},
   "source": [
    "## Aufgabe 1: \n",
    "\n",
    "Ein Programm liest das Geschlecht und den Nachnamen ein und macht entsprechend eine Ausgabe „Hallo Frau / Herr xxx“\n",
    "\n",
    "a) Erstellen Sie einen PAP zu diesem Programm.  \n",
    "b) Programmieren Sie das Programm.\n"
   ]
  },
  {
   "cell_type": "code",
   "execution_count": 1,
   "metadata": {},
   "outputs": [
    {
     "name": "stdout",
     "output_type": "stream",
     "text": [
      "Hallo Herr Schniz\n"
     ]
    }
   ],
   "source": [
    "gender=input(\"Enter your gender: \").capitalize()\n",
    "last_name=input(\"Enter your last name: \")\n",
    "if( gender == 'Male'):\n",
    "    print(\"Hallo Herr\", last_name)\n",
    "elif(gender == 'Female'):\n",
    "    print(\"Hallo Frau\", last_name)\n",
    "else:\n",
    "    pronoun=input(\"Enter your pronoun: \")\n",
    "    print(\"Hallo\", pronoun, last_name)"
   ]
  },
  {
   "cell_type": "markdown",
   "metadata": {},
   "source": [
    "## Aufgabe 2: \n",
    "\n",
    "Ein Programm überprüft die Benutzereingabe des Passworts. Gibt der Benutzer das richtige Passwort ein (**„Geheim!“**), wird er mit der Ausgabe „Willkommen“ begrüßt, ansonsten bekommt er die Nachricht ausgegeben, dass sein Passwort nicht stimmt. \n",
    "  \n",
    "a) Erstellen Sie einen PAP zu diesem Programm.  \n",
    "b) Programmieren Sie das Programm."
   ]
  },
  {
   "cell_type": "code",
   "execution_count": 3,
   "metadata": {},
   "outputs": [
    {
     "ename": "SystemExit",
     "evalue": "Your password is incorrect",
     "output_type": "error",
     "traceback": [
      "An exception has occurred, use %tb to see the full traceback.\n",
      "\u001b[0;31mSystemExit\u001b[0m\u001b[0;31m:\u001b[0m Your password is incorrect\n"
     ]
    }
   ],
   "source": [
    "import sys\n",
    "password=input(\"Enter your password: \")\n",
    "if(password != \"Geheim!\"):\n",
    "    sys.exit(\"Your password is incorrect\")\n",
    "print(\"Your password is correct\")"
   ]
  },
  {
   "cell_type": "markdown",
   "metadata": {},
   "source": [
    "## Aufgabe 3: \n",
    "\n",
    "Ein Unternehmen, das Fahrräder verleiht berechnet 7,35 Euro pro Fahrrad und Tag, wobei der Mindestpreis 15 Euro beträgt. \n",
    "Erstellen Sie zunächst einen PAP und danach ein Programm, das die Anzahl der Leihtage und der Fahrräder vom Benutzer einliest und den Leihpreis zurückgibt.\n"
   ]
  },
  {
   "cell_type": "code",
   "execution_count": 8,
   "metadata": {},
   "outputs": [
    {
     "name": "stdout",
     "output_type": "stream",
     "text": [
      "The total price is 735.0€\n"
     ]
    }
   ],
   "source": [
    "number_of_days=int(input(\"Enter the number of days: \"))\n",
    "number_of_bikes=int(input(\"Enter the number of bikes: \"))\n",
    "price_per_day=7.35\n",
    "total_price=number_of_days*number_of_bikes*price_per_day\n",
    "if(total_price< 15):\n",
    "    total_price=15\n",
    "print(f\"The total price is {total_price}€\")\n"
   ]
  },
  {
   "cell_type": "markdown",
   "metadata": {},
   "source": [
    "## Aufgabe 4:\n",
    "\n",
    "Das Staatstheater Karlsruhe bietet Karten in 5 Preisgruppen an. Schreiben Sie ein Programm, das nach Eingabe von Preisgruppe und Anzahl der Karten den Gesamtpreis berechnet.\n",
    "\n",
    "<img src=\"images\\preisgruppe_staatstheater.png\" width=600>\n",
    "\n",
    "\n",
    "Wird eine ungültige Preisgruppe eingegeben, soll eine Fehlermeldung \"Ungülitge Eingabe\" erfolgen und kein Preis berechnet werden. "
   ]
  },
  {
   "cell_type": "code",
   "execution_count": 12,
   "metadata": {},
   "outputs": [
    {
     "ename": "SystemExit",
     "evalue": "Invalid price group",
     "output_type": "error",
     "traceback": [
      "An exception has occurred, use %tb to see the full traceback.\n",
      "\u001b[0;31mSystemExit\u001b[0m\u001b[0;31m:\u001b[0m Invalid price group\n"
     ]
    },
    {
     "name": "stderr",
     "output_type": "stream",
     "text": [
      "/home/hannes/.local/lib/python3.10/site-packages/IPython/core/interactiveshell.py:3534: UserWarning: To exit: use 'exit', 'quit', or Ctrl-D.\n",
      "  warn(\"To exit: use 'exit', 'quit', or Ctrl-D.\", stacklevel=1)\n"
     ]
    }
   ],
   "source": [
    "price_group=input(\"Enter the price group: \").upper().replace(\" \", \"\")\n",
    "price=0\n",
    "match price_group:\n",
    "    case \"PG1\":\n",
    "        price=35\n",
    "    case \"PG2\":\n",
    "        price=30\n",
    "    case \"PG3\":\n",
    "        price=24\n",
    "    case \"PG4\":\n",
    "        price=17\n",
    "    case \"PG5\":\n",
    "        price=12\n",
    "    case _:\n",
    "        sys.exit(\"Invalid price group\")\n",
    "amount_of_tickets=int(input(\"Enter the amount of tickets: \"))\n",
    "print(f\"The total price is {price*amount_of_tickets}€\")\n"
   ]
  },
  {
   "cell_type": "markdown",
   "metadata": {},
   "source": [
    "## Aufgabe 5: \n",
    "\n",
    "Bei der DHL berechnen sich die Versandpreise in Abhängigkeit von der Größe des Paketes sowie vom Gewicht. \n",
    "\n",
    "<img src=\"images\\preise_dhl.png\" width=900>\n",
    "\n",
    "Erstellen Sie ein Programm, das zuerst Länge, Breite und Höhe sowie Gewicht abfragt und dann den günstigsten Tarif vorschlägt. "
   ]
  },
  {
   "cell_type": "code",
   "execution_count": 3,
   "metadata": {},
   "outputs": [
    {
     "name": "stdout",
     "output_type": "stream",
     "text": [
      "Paket XL\n"
     ]
    }
   ],
   "source": [
    "weight=float(input(\"Enter your weight in kg: \"))\n",
    "length=float(input(\"Enter your length in mm: \"))\n",
    "width=float(input(\"Enter your width in mm: \"))\n",
    "height=float(input(\"Enter your height in mm: \"))\n",
    "\n",
    "if(weight <= 2 and height <= 100 and width <= 250  and length <= 350):\n",
    "    print(\"Päckchen S\")\n",
    "elif(weight <= 2 and height <= 150 and width <= 300  and length <= 600):\n",
    "    print(\"Päckchen M\")\n",
    "elif(weight <= 5 and height <= 600 and width <= 600  and length <= 1200):\n",
    "    print(\"Paket M\")\n",
    "elif(weight <= 10 and height <= 600 and width <= 600  and length <= 1200):\n",
    "    print(\"Paket L\")\n",
    "elif(weight <= 31.5 and height <= 600 and width <= 600  and length <= 1200):\n",
    "    print(\"Paket XL\")\n",
    "else:\n",
    "    print(\"keine Option möglich\")"
   ]
  }
 ],
 "metadata": {
  "kernelspec": {
   "display_name": "base",
   "language": "python",
   "name": "python3"
  },
  "language_info": {
   "codemirror_mode": {
    "name": "ipython",
    "version": 3
   },
   "file_extension": ".py",
   "mimetype": "text/x-python",
   "name": "python",
   "nbconvert_exporter": "python",
   "pygments_lexer": "ipython3",
   "version": "3.10.12"
  },
  "orig_nbformat": 4
 },
 "nbformat": 4,
 "nbformat_minor": 2
}

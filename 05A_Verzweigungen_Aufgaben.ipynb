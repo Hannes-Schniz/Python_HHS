{
 "cells": [
  {
   "cell_type": "markdown",
   "metadata": {},
   "source": [
    "## Aufgabe 1: \n",
    "\n",
    "Ein Programm liest das Geschlecht und den Nachnamen ein und macht entsprechend eine Ausgabe „Hallo Frau / Herr xxx“\n",
    "\n",
    "a) Erstellen Sie einen PAP zu diesem Programm.  \n",
    "b) Programmieren Sie das Programm.\n"
   ]
  },
  {
   "cell_type": "markdown",
   "metadata": {},
   "source": [
    "## Aufgabe 2: \n",
    "\n",
    "Ein Programm überprüft die Benutzereingabe des Passworts. Gibt der Benutzer das richtige Passwort ein (**„Geheim!“**), wird er mit der Ausgabe „Willkommen“ begrüßt, ansonsten bekommt er die Nachricht ausgegeben, dass sein Passwort nicht stimmt. \n",
    "  \n",
    "a) Erstellen Sie einen PAP zu diesem Programm.  \n",
    "b) Programmieren Sie das Programm."
   ]
  },
  {
   "cell_type": "markdown",
   "metadata": {},
   "source": [
    "## Aufgabe 3: \n",
    "\n",
    "Ein Unternehmen, das Fahrräder verleiht berechnet 7,35 Euro pro Fahrrad und Tag, wobei der Mindestpreis 15 Euro beträgt. \n",
    "Erstellen Sie zunächst einen PAP und danach ein Programm, das die Anzahl der Leihtage und der Fahrräder vom Benutzer einliest und den Leihpreis zurückgibt.\n"
   ]
  },
  {
   "cell_type": "markdown",
   "metadata": {},
   "source": [
    "## Aufgabe 4:\n",
    "\n",
    "Das Staatstheater Karlsruhe bietet Karten in 5 Preisgruppen an. Schreiben Sie ein Programm, das nach Eingabe von Preisgruppe und Anzahl der Karten den Gesamtpreis berechnet.\n",
    "\n",
    "<img src=\"images\\preisgruppe_staatstheater.png\" width=600>\n",
    "\n",
    "\n",
    "Wird eine ungültige Preisgruppe eingegeben, soll eine Fehlermeldung \"Ungülitge Eingabe\" erfolgen und kein Preis berechnet werden. "
   ]
  },
  {
   "cell_type": "markdown",
   "metadata": {},
   "source": [
    "## Aufgabe 5: \n",
    "\n",
    "Bei der DHL berechnen sich die Versandpreise in Abhängigkeit von der Größe des Paketes sowie vom Gewicht. \n",
    "\n",
    "<img src=\"images\\preise_dhl.png\" width=900>\n",
    "\n",
    "Erstellen Sie ein Programm, das zuerst Länge, Breite und Höhe sowie Gewicht abfragt und dann den günstigsten Tarif vorschlägt. "
   ]
  }
 ],
 "metadata": {
  "kernelspec": {
   "display_name": "base",
   "language": "python",
   "name": "python3"
  },
  "language_info": {
   "codemirror_mode": {
    "name": "ipython",
    "version": 3
   },
   "file_extension": ".py",
   "mimetype": "text/x-python",
   "name": "python",
   "nbconvert_exporter": "python",
   "pygments_lexer": "ipython3",
   "version": "3.10.9"
  },
  "orig_nbformat": 4
 },
 "nbformat": 4,
 "nbformat_minor": 2
}

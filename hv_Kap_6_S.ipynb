{
 "cells": [
  {
   "cell_type": "markdown",
   "metadata": {},
   "source": [
    "Dieses Notbook bezieht sich auf das E-Book \"23_ExFS2_PGPY_kommentiert.pdf\n",
    "\n",
    "# Kap 6 Grundlegende Sprachelemente\n",
    "\n",
    "Studieren Sie die Abschnitte des Kapitels 6. Probieren Sie die angegebenen Programmbeispiele aus. Machen Sie sich in diesem Notebook eigene Notizen."
   ]
  },
  {
   "cell_type": "markdown",
   "metadata": {},
   "source": [
    "Seite 65 - Variable in Python deklarieren und initialisieren"
   ]
  },
  {
   "cell_type": "code",
   "execution_count": null,
   "metadata": {},
   "outputs": [],
   "source": [
    "int = 0"
   ]
  },
  {
   "cell_type": "markdown",
   "metadata": {},
   "source": [
    "Seite 66 - Implizite Typumwandlungen"
   ]
  },
  {
   "cell_type": "code",
   "execution_count": 1,
   "metadata": {},
   "outputs": [
    {
     "name": "stdout",
     "output_type": "stream",
     "text": [
      "0\n"
     ]
    }
   ],
   "source": [
    "int = 0\n",
    "print(int)"
   ]
  },
  {
   "cell_type": "markdown",
   "metadata": {},
   "source": [
    "Seite 67 - Explizite Typumwandlung"
   ]
  },
  {
   "cell_type": "code",
   "execution_count": 1,
   "metadata": {},
   "outputs": [
    {
     "name": "stdout",
     "output_type": "stream",
     "text": [
      "123.0\n"
     ]
    }
   ],
   "source": [
    "num_int = 123\n",
    "num_float = float(num_int)\n",
    "print(num_float)"
   ]
  },
  {
   "cell_type": "markdown",
   "metadata": {},
   "source": [
    "Seite 72 - Der String-Verkettungsoperator"
   ]
  },
  {
   "cell_type": "code",
   "execution_count": 2,
   "metadata": {},
   "outputs": [
    {
     "name": "stdout",
     "output_type": "stream",
     "text": [
      "testmoreTest\n"
     ]
    }
   ],
   "source": [
    "stringOne=\"test\"\n",
    "stringTwo=\"moreTest\"\n",
    "string= stringOne + stringTwo\n",
    "print(string)"
   ]
  },
  {
   "cell_type": "markdown",
   "metadata": {},
   "source": [
    "Seite 74 - Übung 2: Zwei Variablen vertauschen"
   ]
  },
  {
   "cell_type": "code",
   "execution_count": 3,
   "metadata": {},
   "outputs": [
    {
     "name": "stdout",
     "output_type": "stream",
     "text": [
      "2\n",
      "0\n"
     ]
    }
   ],
   "source": [
    "valueOne=0\n",
    "valueTwo=2\n",
    "value=valueOne\n",
    "valueOne=valueTwo\n",
    "valueTwo=value\n",
    "print(valueOne)\n",
    "print(valueTwo)"
   ]
  }
 ],
 "metadata": {
  "kernelspec": {
   "display_name": "Python 3 (ipykernel)",
   "language": "python",
   "name": "python3"
  },
  "language_info": {
   "codemirror_mode": {
    "name": "ipython",
    "version": 3
   },
   "file_extension": ".py",
   "mimetype": "text/x-python",
   "name": "python",
   "nbconvert_exporter": "python",
   "pygments_lexer": "ipython3",
   "version": "3.10.12"
  }
 },
 "nbformat": 4,
 "nbformat_minor": 4
}

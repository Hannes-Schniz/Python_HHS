{
 "cells": [
  {
   "cell_type": "markdown",
   "metadata": {},
   "source": [
    "# Listen, Tupel, List Comprehensions"
   ]
  },
  {
   "cell_type": "markdown",
   "metadata": {},
   "source": [
    "## Listen\n",
    "In Python ist die **Liste** eine der wichtigsten und meistverwendeten Datenstrukturen. Wegen der Verwendung eckiger Klammern erinnert sie an Java-Arrays, entspricht in der Implementierung aber eher Javas `ArrayList`: Listen können beliebig wachsen und schrumpfen, sind aber so implementiert, dass sie trotzdem die hervorragenden Laufzeiteigenschaften von Arrays haben. "
   ]
  },
  {
   "cell_type": "code",
   "execution_count": null,
   "metadata": {},
   "outputs": [],
   "source": [
    "zahlenliste = [2, 3, 5, 7, 11, 13]\n",
    "namensliste = [\"Anna\", \"Berta\", \"Carla\", \"Doris\", \"Emilia\", \"Franziska\", \"Gabi\", \"Hannah\", \"Iris\"]\n",
    "gemischte_liste = [\"Harry\", 12, \"Albus\", 115, \"Nicolas\", 665]\n",
    "verschachtelte_liste = [[\"Dudley\", 13, [\"Privet Drive\", 4]], [\"Albus\", 115, [\"Hogwarts\"]]]"
   ]
  },
  {
   "cell_type": "code",
   "execution_count": null,
   "metadata": {},
   "outputs": [],
   "source": [
    "zahlenliste[0]"
   ]
  },
  {
   "cell_type": "code",
   "execution_count": null,
   "metadata": {},
   "outputs": [],
   "source": [
    "zahlenliste[0] = 42\n",
    "zahlenliste"
   ]
  },
  {
   "cell_type": "code",
   "execution_count": null,
   "metadata": {},
   "outputs": [],
   "source": [
    "namensliste[3]"
   ]
  },
  {
   "cell_type": "code",
   "execution_count": null,
   "metadata": {},
   "outputs": [],
   "source": [
    "len(namensliste)"
   ]
  },
  {
   "cell_type": "code",
   "execution_count": null,
   "metadata": {},
   "outputs": [],
   "source": [
    "namensliste.append(\"Johanna\")   # ein neues Element anfügen\n",
    "#namensliste.extend([\"Klara\", \"Lilli\"])   # eine andere Liste anhängen\n",
    "namensliste = namensliste + [\"Klara\", \"Lilli\"]\n",
    "namensliste"
   ]
  },
  {
   "cell_type": "code",
   "execution_count": null,
   "metadata": {},
   "outputs": [],
   "source": [
    "namensliste.append(\"Gina\")   # Oh, jetzt haben wir ja zwei Namen mit \"G\" - also entfernen wir einen wieder!\n",
    "namensliste.remove(\"Gabi\")   # aber die alphabetische Reihenfolge ist dahin... Was tun?\n",
    "namensliste.sort()           # ...und fertig sortiert!\n",
    "namensliste"
   ]
  },
  {
   "cell_type": "code",
   "execution_count": null,
   "metadata": {},
   "outputs": [],
   "source": [
    "# Wie kommt man an das letzte Element? In den meisten anderen Sprachen müsste man schreiben:\n",
    "# namensliste[len(namensliste)-1]  \n",
    "# In Python geht das viel einfacher:\n",
    "namensliste[-1]  "
   ]
  },
  {
   "cell_type": "markdown",
   "metadata": {},
   "source": [
    "## Slicing: Listen \"scheibchenweise\""
   ]
  },
  {
   "cell_type": "code",
   "execution_count": null,
   "metadata": {},
   "outputs": [],
   "source": [
    "namensliste[1:3]   # Slicing: liefert einen \"Ausschnitt\" (Teilliste).  [Start(inkl):Ende(exkl):Schrittweite]  \n",
    "#namensliste[1:3] + namensliste[3:5]"
   ]
  },
  {
   "cell_type": "code",
   "execution_count": null,
   "metadata": {},
   "outputs": [],
   "source": [
    "namensliste[0:7:2]  # Schrittweite 2, d.h. nur Element 0, 2, 4, 6"
   ]
  },
  {
   "cell_type": "code",
   "execution_count": null,
   "metadata": {},
   "outputs": [],
   "source": [
    "namensliste[::2]  # Start- und Endindex fehlen, nur Schrittweite 2 wird angegeben"
   ]
  },
  {
   "cell_type": "code",
   "execution_count": null,
   "metadata": {},
   "outputs": [],
   "source": [
    "namensliste[-3::-1]   # vom drittletzten Element rückwärts (Schrittweite -1)"
   ]
  },
  {
   "cell_type": "markdown",
   "metadata": {},
   "source": [
    "### Verschachtelte Listen"
   ]
  },
  {
   "cell_type": "markdown",
   "metadata": {},
   "source": [
    "Listen können u.a. selbst auch Listen enthalten:"
   ]
  },
  {
   "cell_type": "code",
   "execution_count": null,
   "metadata": {},
   "outputs": [],
   "source": [
    "verschachtelt = [[0, 1], [2, 3], [4, 5], [6, 7]]\n",
    "verschachtelt[2][1]"
   ]
  },
  {
   "cell_type": "code",
   "execution_count": null,
   "metadata": {},
   "outputs": [],
   "source": [
    "# Bsp. für einen Baumstruktur mit Listen:\n",
    "\n",
    "baum = [\"Säugetier\", [\"Affe\", [\"Gorilla\", \"Schimpanse\"]], [\"Hund\", [\"Pudel\", \"Dackel\", [\"Zwergdackel\", \"Rauhaardackel\"]]]]\n",
    "\n",
    "# oft ist es allerdings noch geschickter, für solche Strukturen ein *dictionary* zu verwenden (s. dort)."
   ]
  },
  {
   "cell_type": "markdown",
   "metadata": {},
   "source": [
    "### Über Listen iterieren"
   ]
  },
  {
   "cell_type": "markdown",
   "metadata": {},
   "source": [
    "#### Die for-Schleife"
   ]
  },
  {
   "cell_type": "markdown",
   "metadata": {},
   "source": [
    "Über alle Elemente einer Liste zu iterieren ist in Python denkbar einfach:"
   ]
  },
  {
   "cell_type": "code",
   "execution_count": null,
   "metadata": {},
   "outputs": [],
   "source": [
    "for name in namensliste:\n",
    "    print(\"Hallo\", name)\n",
    "    \n",
    "# entspräche in Java der \"erweiterten\" for-Schleife (for each):\n",
    "# for(String name : namensliste) {...}"
   ]
  },
  {
   "cell_type": "markdown",
   "metadata": {},
   "source": [
    "#### enumerate()"
   ]
  },
  {
   "cell_type": "markdown",
   "metadata": {},
   "source": [
    "Manchmal benötigt man nicht nur die Elemente selbst, sondern auch ihren Index, d.h. ihre Position. Dazu könnte man dann doch eine klassische \"Zählschleife\" verwenden - das ist aber nicht besonders schön und gilt daher als nicht \"pythonisch\":"
   ]
  },
  {
   "cell_type": "code",
   "execution_count": null,
   "metadata": {},
   "outputs": [],
   "source": [
    "# eher verpönt ist es, über einen Range mit der Länge der Liste zu iterieren:\n",
    "for i in range(len(namensliste)): \n",
    "    name = namensliste[i]\n",
    "    print(name)"
   ]
  },
  {
   "cell_type": "markdown",
   "metadata": {},
   "source": [
    "Viel eleganter ist es, die Funktion `enumerate()` zu nutzen. Diese erzeugt aus einer Liste von Werten *Paare* der Form (Index, Wert):"
   ]
  },
  {
   "cell_type": "code",
   "execution_count": null,
   "metadata": {},
   "outputs": [],
   "source": [
    "# Die \"pythonische\" Lösung:\n",
    "#print(list(enumerate(namensliste)))\n",
    "\n",
    "for i, name in enumerate(namensliste):     # erzeugt [(0, 'Anna'), (1, 'Berta'), (2, 'Carla'), (3, 'Doris'), ...]\n",
    "    print(i, name)\n",
    "    #print(f\"{name} steht an Position {i} der Liste, d.h. sie ist das {i+1}. Element.\")"
   ]
  },
  {
   "cell_type": "markdown",
   "metadata": {},
   "source": [
    "#### zip()"
   ]
  },
  {
   "cell_type": "markdown",
   "metadata": {},
   "source": [
    "Wie geht man vor, wenn man \"parallel\" über zwei Listen iterieren will?\n",
    "\n",
    "Im folgenden Beispiel soll der vollständige Name jeder Person ausgegeben werden.  Allerdings sind die Vor- und Nachnamen in zwei *separaten* Listen gespeichert. Auch hier wäre die \"unpythonische\" Lösung, anhand eines Index (ähnlich wie im vorigen Abschnitt) gleichzeitig auf Elemente beider Liste zugreifen.\n",
    "\n",
    "Stattdessen nutzt man hier die Funktion `zip()`, die - wie ein Reißverschluss (engl. zipper) - die Elemente beider Listen paarweise \"ineinander verhakt\":"
   ]
  },
  {
   "cell_type": "code",
   "execution_count": null,
   "metadata": {},
   "outputs": [],
   "source": [
    "vornamen = [\"Anna\", \"Berta\", \"Carla\"]\n",
    "nachnamen = [\"Adler\", \"Bär\", \"Chamäleon\"]\n",
    "\n",
    "for vn, nn in zip(vornamen, nachnamen):   # erzeugt [(\"Anna\", \"Adler\"), (\"Berta\", \"Bär\") usw.]\n",
    "    print(vn, nn)"
   ]
  },
  {
   "cell_type": "code",
   "execution_count": null,
   "metadata": {},
   "outputs": [],
   "source": [
    "# Beispiel: Die Elemente der beiden Listen sollen paarweise addiert werden zu: [11, 22, 33, 44, 55]\n",
    "zahlen1 = [1, 2, 3, 4, 5]\n",
    "zahlen2 = [10, 20, 30, 40, 50]\n",
    "\n",
    "# nicht so hübsch:\n",
    "\"\"\"\n",
    "for i in range(len(zahlen1)):\n",
    "    z1 = zahlen1[i]\n",
    "    z2 = zahlen2[i]\n",
    "    print(z1+z2)\n",
    "\"\"\"\n",
    "\n",
    "# \"pythonic\":\n",
    "for z1, z2 in zip(zahlen1, zahlen2):\n",
    "    print(z1+z2)"
   ]
  },
  {
   "cell_type": "markdown",
   "metadata": {},
   "source": [
    "## Tupel\n",
    "Auch **Tupel** werden in Python häufig verwendet. Intuition: Ein Tupel repräsentiert einem  **Datensatz** mit *fester* Länge mit Werten potentiell unterschiedlicher Datentypen.\n",
    "\n",
    "Bsp. `produkt = (\"Tesla\", \"Model X\", 100000)`\n",
    "\n",
    "Tupel ähneln Listen; die meisten üblichen Listenoperationen sind auch mit Tupeln möglich. Sie werden aber mit *runden* statt mit eckigen Klammern geschrieben.\n",
    "\n",
    "Wichtige Eigenschaften von Tupeln:\n",
    "* unveränderlich (immutable)\n",
    "* insb. kann auch kein Wert hinzugefügt oder gelöscht werden\n",
    "* unterschiedliche Datentypen möglich"
   ]
  },
  {
   "cell_type": "code",
   "execution_count": null,
   "metadata": {},
   "outputs": [],
   "source": [
    "person1 = (\"Harry\", \"Potter\", 11)\n",
    "person2 = (\"Hermione\", \"Granger\", 11)\n",
    "person3 = (\"Nicolas\", \"Flamel\", 690)"
   ]
  },
  {
   "cell_type": "code",
   "execution_count": null,
   "metadata": {},
   "outputs": [],
   "source": [
    "person1[0]    # Zugriff auf Einzelwerte wie bei Liste/Array über Index.  Alternativ: namedtuple oder dataclass (ab 3.7)\n",
    "# person1[0] = \"James\"   # das ist verboten!"
   ]
  },
  {
   "cell_type": "code",
   "execution_count": null,
   "metadata": {},
   "outputs": [],
   "source": [
    "tup = 1, 2, 3   # Klammern können auch weggelassen werden\n",
    "type(tup)"
   ]
  },
  {
   "cell_type": "code",
   "execution_count": null,
   "metadata": {},
   "outputs": [],
   "source": [
    "(z1, z2, z3) = (32, 17, -4)   # Destrukturierung: Das Tupel wird in seine Einzelteile zerlegt und verschiedenen Variablen zugewiesen\n",
    "print(z3, z2, z1)\n",
    "vorname, nachname, alter = person1   \n",
    "print(vorname, alter)"
   ]
  },
  {
   "cell_type": "code",
   "execution_count": null,
   "metadata": {},
   "outputs": [],
   "source": [
    "a = 1\n",
    "b = 2\n",
    "a, b = b, a   # Schau mal, Mama - ohne Hilfsvariable!!! Der Trick: Eigentlich steht da folgendes:\n",
    "(a, b) = (b, a)   # Ein neues Tupel wird aus den Elementen eines anderen Tupels erzeugt\n",
    "print(a, b)"
   ]
  },
  {
   "cell_type": "code",
   "execution_count": null,
   "metadata": {},
   "outputs": [],
   "source": [
    "for wert in person1:   # Schleife über die Elemente des Tupels\n",
    "    print(wert)"
   ]
  },
  {
   "cell_type": "code",
   "execution_count": null,
   "metadata": {},
   "outputs": [],
   "source": [
    "personen = [person1, person2, person3]     # Liste von Tupeln\n",
    "for person in personen:\n",
    "    for wert in person:\n",
    "        print(wert)"
   ]
  },
  {
   "cell_type": "markdown",
   "metadata": {},
   "source": [
    "### Listen kopieren\n"
   ]
  },
  {
   "cell_type": "code",
   "execution_count": null,
   "metadata": {},
   "outputs": [],
   "source": [
    "a = [1, 2, 3]\n",
    "b = a        # b ist eine neue Referenz, aber auf dasselbe Listenobjekt\n",
    "c = list(a)  # Kopie der Liste\n",
    "d = a[:]     # Kopie der Liste\n",
    "a[0] = 42\n",
    "d\n",
    "\n",
    "t1 = (1, 2, 3)\n",
    "t2 = t1\n",
    "t3 = (1, 2, 3)\n",
    "print(t1 == t2)   # enthalten gleiche Inhalte   s. equals() in Java\n",
    "print(t1 == t3)   # enthalten gleiche Inhalte   s. equals() in Java\n",
    "print(t1 is t2)   # Referenz auf dasselbe Objekt\n",
    "print(t1 is t3)   # Referenz auf unterschiedliche Objekte"
   ]
  },
  {
   "cell_type": "markdown",
   "metadata": {},
   "source": [
    "### List comprehension (unüblicher deutscher Name: Listenabstraktion)\n",
    "([Ausführliches englisches Tutorial](https://realpython.com/list-comprehension-python/))\n",
    "\n",
    "Eine der wesentlichen Aufgaben des Computers ist die \"Datenverarbeitung\": Datenmengen werden untersucht, ausgewählt, bearbeitet und wieder zurückgeliefert. Datenbanksprache wie SQL erlauben es, solche Datenabfragen oder -transformationen kompakt darzustellen. Eine SELECT-Anweisung in SQL ist **deklarativ**, d.h. sie beschreibt, wie das gesuchte Ergebnis aussehen, aber nicht, mit welchem Verfahren es berechnet werden soll.\n",
    "\n",
    "In den meisten Programmiersprachen hingegen wird meist mit einer Schleife über eine Liste/Array iteriert, mit if-Befehlen eine Auswahl getroffen und (evtl. veränderte) Daten in einer neuen Liste gespeichert. Hier wird dem Computer genau gesagt, wie er vorgehen soll; die Beschreibung ist also **prozedural**. Der Code ist dabei meist deutlich länger und die eigentliche Bedeutung der so generierten neuen Liste ist nur schwer zu erkennen.\n",
    "\n",
    "Python bietet mit *list comprehensions* eine kompakte, deklarative Darstellung solcher Auswahl- und Transformationsprozesse. Sie ist an die mathematische Mengenschreibweise angelegt. So beschreibt der Ausdruck $ \\{ x^2 | 10 \\leq x < 20, x \\in \\mathbb{N} \\} $ die Menge der Quadratzahlen aller natürlichen Zahlen zwischen 10 und 20. In Python schreibt man analog:"
   ]
  },
  {
   "cell_type": "code",
   "execution_count": null,
   "metadata": {},
   "outputs": [],
   "source": [
    "quadrate = [x**2 for x in range(10, 20)]\n",
    "quadrate"
   ]
  },
  {
   "cell_type": "markdown",
   "metadata": {},
   "source": [
    "Die Listennotation mit [eckigen Klammern] wird also nicht nur verwendet, um Elemente explizit aufzuzählen, sondern auch um Listen aus anderen zu *berechnen* bzw. *auszuwählen*.\n",
    "\n",
    "Syntax: [Berechnung for Variable in Liste if Bedingung]"
   ]
  },
  {
   "cell_type": "markdown",
   "metadata": {},
   "source": [
    "Vergleiche die Lösungen der folgenden \n",
    "\n",
    "**Aufgabe:** Gib in GROSSBUCHSTABEN alle Namen aus einer Liste aus, die länger als vier Zeichen sind."
   ]
  },
  {
   "cell_type": "code",
   "execution_count": null,
   "metadata": {},
   "outputs": [],
   "source": [
    "liste = [\"Anna\", \"Berta\", \"Carla\", \"Doris\", \"Emilia\", \"Franziska\", \"Gabi\", \"Hannah\", \"Iris\"]\n",
    "\n",
    "# mit Schleife:\n",
    "namen_neu = []\n",
    "for name in liste:\n",
    "    if len(name) > 4:\n",
    "        namen_neu.append(name.upper())\n",
    "print(namen_neu)\n",
    "\n",
    "# mit list comprehension:\n",
    "namen_neu = [name.upper() for name in liste if len(name) > 4]\n",
    "print(namen_neu)"
   ]
  },
  {
   "cell_type": "markdown",
   "metadata": {},
   "source": [
    "##### Und noch eine Aufgabe\n",
    "Berechne die Summe aller ungeraden Zahlen in der folgenden Liste.\n",
    "\n",
    "*Tipp:* In SQL wäre die Lösung \n",
    "```\n",
    "SELECT SUM(z) FROM zahlen WHERE z % 2 = 1\n",
    "```"
   ]
  },
  {
   "cell_type": "code",
   "execution_count": null,
   "metadata": {},
   "outputs": [],
   "source": [
    "zahlen = [7, 43, 12, 0, -3, -35, 33, 24, 8, 45, 60, 2, 13, -1, 22, 9]\n",
    "\n",
    "# Lösung:\n",
    "\n",
    "sum(z for z in zahlen if z % 2 == 1)    # genau wie in SQL, oder?"
   ]
  },
  {
   "cell_type": "markdown",
   "metadata": {},
   "source": [
    "*Frage:* Müssten bei `sum(z for z in zahlen if z % 2 == 1)` nicht noch eckige Klammern rein?   \n",
    "\n",
    "*Antwort:* Innerhalb eines Funktionsaufrufs, wie hier in `sum()`, ist diese Kurzform ohne Klammern tatsächlich möglich. Warum, erfährst du beim Thema *Generatoren*."
   ]
  }
 ],
 "metadata": {
  "kernelspec": {
   "display_name": "Python 3",
   "language": "python",
   "name": "python3"
  },
  "language_info": {
   "codemirror_mode": {
    "name": "ipython",
    "version": 3
   },
   "file_extension": ".py",
   "mimetype": "text/x-python",
   "name": "python",
   "nbconvert_exporter": "python",
   "pygments_lexer": "ipython3",
   "version": "3.7.3"
  }
 },
 "nbformat": 4,
 "nbformat_minor": 4
}

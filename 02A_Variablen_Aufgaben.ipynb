{
 "cells": [
  {
   "cell_type": "markdown",
   "metadata": {},
   "source": [
    "## Aufgabe 1: \n",
    "Geben Sie an, welche Variablennamen gültig oder ungültig sind und ob sie den Konventionen entsprechen. \n",
    "\n",
    "| Variable   | Gültigkeit | Entspricht den <br>  Konventionen | Problem           |\n",
    "|------------|--------|------------------------------|-------------------|\n",
    "| Var        |    Ja   | nein, keine Kleinschreibung | Verwirrung über den Inhalt der Variable |\n",
    "| H4.s       | nein | nein, keine Kleinschreibung | nicht nur alphanumerische Zeichen |\n",
    "| u89b       | ja | nein, nicht sprechend | Verwirrung über den Inhalt der Variablen |\n",
    "| 8nas       | nein | nein, nicht sprechend | nicht mit Buchstaben beginnend  |\n",
    "| iN8nF      | ja | nein, nicht sprechend | Verwirrung über den Inhalt der Variable |\n",
    "| name(1)    | nein | ja | Sonderzeichen |\n",
    "| \"Produkt\"  | nein | nein, keine Kleinschreibung | nicht nur alphanumerische Zeichen |\n",
    "| xy34d      | ja | nein, nicht sprechend | Verwirrung über den Inhalt der Variable |\n",
    "| _r_        | nein | nein, nicht sprechend | nicht mit Buchstaben beginnend |\n",
    "| @km_anzahl | nein | ja | nicht mit Buchstaben beginnend |"
   ]
  },
  {
   "cell_type": "markdown",
   "metadata": {},
   "source": [
    "## Aufgabe 2: \n",
    "Erstellen Sie eine Variable in der „Hallo Welt!“ steht. Geben Sie den Typ und den Wert der Variablen aus.\n"
   ]
  },
  {
   "cell_type": "code",
   "execution_count": 1,
   "metadata": {},
   "outputs": [
    {
     "name": "stdout",
     "output_type": "stream",
     "text": [
      "Hallo Welt\n",
      "<class 'str'>\n"
     ]
    }
   ],
   "source": [
    "hello_welt=\"Hallo Welt\"\n",
    "print(hello_welt)\n",
    "print(type(hello_welt))"
   ]
  },
  {
   "cell_type": "markdown",
   "metadata": {
    "tags": []
   },
   "source": [
    "## Aufgabe 3:\n",
    "\n",
    "Erstellen Sie eine Variable in der „Ich heiße xxx!“ steht. Geben Sie den Wert der Variablen aus."
   ]
  },
  {
   "cell_type": "code",
   "execution_count": null,
   "metadata": {},
   "outputs": [],
   "source": [
    "my_name=\"Ich heiße Hannes!\"\n",
    "print(my_name)"
   ]
  },
  {
   "cell_type": "markdown",
   "metadata": {},
   "source": [
    "## Aufgabe 4:\n",
    "\n",
    "Erstellen Sie eine Variable in der Ihr Name steht. Geben Sie den Satz \"Mein Name ist XXX\" aus. "
   ]
  },
  {
   "cell_type": "code",
   "execution_count": null,
   "metadata": {},
   "outputs": [],
   "source": [
    "name=\"Hannes\"\n",
    "print(\"Mein Name ist\", name)"
   ]
  }
 ],
 "metadata": {
  "kernelspec": {
   "display_name": "Python 3",
   "language": "python",
   "name": "python3"
  },
  "language_info": {
   "codemirror_mode": {
    "name": "ipython",
    "version": 3
   },
   "file_extension": ".py",
   "mimetype": "text/x-python",
   "name": "python",
   "nbconvert_exporter": "python",
   "pygments_lexer": "ipython3",
   "version": "3.10.12"
  }
 },
 "nbformat": 4,
 "nbformat_minor": 4
}

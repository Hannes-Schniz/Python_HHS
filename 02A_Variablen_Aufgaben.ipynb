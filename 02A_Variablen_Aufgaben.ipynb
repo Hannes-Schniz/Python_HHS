{
 "cells": [
  {
   "cell_type": "markdown",
   "metadata": {},
   "source": [
    "## Aufgabe 1: \n",
    "Geben Sie an, welche Variablennamen gültig oder ungültig sind und ob sie den Konventionen entsprechen. \n",
    "\n",
    "| Variable   | Gültigkeit | Entspricht den <br>  Konventionen | Problem           |\n",
    "|------------|--------|------------------------------|-------------------|\n",
    "| Var        |       |                             | |\n",
    "| H4.s       |       |                             |  |\n",
    "| u89b       |       |                             |                   |\n",
    "| 8nas       |       |                             |   |\n",
    "| iN8nF      |      |                             | |\n",
    "| name(1)    |       |                             |      |\n",
    "| \"Produkt\"  |       |                             | '       |\n",
    "| xy34d      |       |                             |                   |\n",
    "| _r_        |       |                             |                   |\n",
    "| @km_anzahl |       |                             |      |"
   ]
  },
  {
   "cell_type": "markdown",
   "metadata": {},
   "source": [
    "## Aufgabe 2: \n",
    "Erstellen Sie eine Variable in der „Hallo Welt!“ steht. Geben Sie den Typ und den Wert der Variablen aus.\n"
   ]
  },
  {
   "cell_type": "code",
   "execution_count": null,
   "metadata": {},
   "outputs": [],
   "source": []
  },
  {
   "cell_type": "markdown",
   "metadata": {
    "tags": []
   },
   "source": [
    "## Aufgabe 3:\n",
    "\n",
    "Erstellen Sie eine Variable in der „Ich heiße xxx!“ steht. Geben Sie den Wert der Variablen aus."
   ]
  },
  {
   "cell_type": "code",
   "execution_count": null,
   "metadata": {},
   "outputs": [],
   "source": []
  },
  {
   "cell_type": "markdown",
   "metadata": {},
   "source": [
    "## Aufgabe 4:\n",
    "\n",
    "Erstellen Sie eine Variable in der Ihr Name steht. Geben Sie den Satz \"Mein Name ist XXX\" aus. "
   ]
  },
  {
   "cell_type": "code",
   "execution_count": null,
   "metadata": {},
   "outputs": [],
   "source": []
  }
 ],
 "metadata": {
  "kernelspec": {
   "display_name": "Python 3",
   "language": "python",
   "name": "python3"
  },
  "language_info": {
   "codemirror_mode": {
    "name": "ipython",
    "version": 3
   },
   "file_extension": ".py",
   "mimetype": "text/x-python",
   "name": "python",
   "nbconvert_exporter": "python",
   "pygments_lexer": "ipython3",
   "version": "3.7.3"
  }
 },
 "nbformat": 4,
 "nbformat_minor": 4
}

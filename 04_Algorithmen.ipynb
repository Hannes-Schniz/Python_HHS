{
 "cells": [
  {
   "cell_type": "markdown",
   "metadata": {},
   "source": [
    " ## Eingabe von Daten über die Tastatur\n",
    "\n",
    "| **Anweisung**     | **Ergebnis**          |\n",
    "|-------------------|-----------------------|\n",
    "| `variable = int(input(\"Eingabe:\"))` | Variable von Konsole einlesen |\n",
    "\n",
    "Eingabe ist dabei der Text der ausgegeben wird. \n",
    "`input` ist die Funktion, die auf eine Eingabe wartet\n",
    "`int` ist die Funktion, die die Eingabe in eine Ganzzahl umwandelt\n",
    "\n",
    "### Möglicher Workaround für JupyterLite\n",
    "\n",
    "`variable = await input(\"Eingabe:\")` in eigenem Code-Fenster. Danach erst weitere Code-Stücke. \n",
    "Nächstes Code-Stück müsste dann sein:    \n",
    "`variable = int(variable)`\n",
    "\n",
    "## Aufgabe 1: \n",
    "\n",
    "Erstellen Sie ein Programm, dass zwei Zahlen von der Tastatur einliest und addiert. "
   ]
  },
  {
   "cell_type": "code",
   "execution_count": 2,
   "metadata": {},
   "outputs": [
    {
     "name": "stdout",
     "output_type": "stream",
     "text": [
      "The sum of 1 and 2 is 3\n"
     ]
    }
   ],
   "source": [
    "in_one = int(input(\"Enter a number: \")) \n",
    "in_two = int(input(\"Enter another number: \"))\n",
    "print(f\"The sum of {in_one} and {in_two} is {in_one + in_two}\")"
   ]
  },
  {
   "cell_type": "markdown",
   "metadata": {},
   "source": [
    "## Algorithmus und Programm\n",
    "\n",
    "**Algorithmus**: eine detaillierte Verfahrensvorschrift, die die Arbeitsfolge und die Arbeitsschritte für den Rechner eindeutig und ausführbar festlegt  \n",
    "\n",
    "**Programm**: Algorithmen, deren Arbeitsschritte in einer Programmiersprache formuliert werden  \n",
    "\n",
    "**Software**: Sammlung von Programmen und Daten   \n",
    "\n",
    "\n",
    "## EVA-Prinzip\n",
    "\n",
    "Programme verarbeiten Daten, z. B. Benutzereingaben, und liefern Daten zurück. \n",
    "Diesen Datenfluss durch ein Programm nennt man EVA-Prinzip (Eingabe – Verarbeitung – Ausgabe) \n",
    "\n",
    "<img src=\"images\\eva.png\" width=500>\n",
    "\n",
    "\n",
    "**Eingabe**: In das Programm werden Daten eingegeben  \n",
    "**Verarbeitung**: Das Programm verarbeitet diese Daten nach einem vorgegebenen Algorithmus.   \n",
    "**Ausgabe**: Die Ergebnisse des Programms werden ausgegeben  \n",
    "\n",
    "## EVA-Prinzip am Beispiel der Aufgabe 1\n",
    "\n",
    "**Eingabe**: zahl1 und zahl2  \n",
    "**Verarbeitung**: zahl3 = zahl1 + zahl2     \n",
    "**Ausgabe**: zahl3 als Ergebnis der Addition   \n",
    "\n",
    "## Darstellung von Algorithmen\n",
    "\n",
    "Programmablaufpläne sind grafische Darstellungen mithilfe genormter Symbole.  \n",
    "Ein Programmablaufplan wird auch Ablaufdiagramm, Flussdiagramm oder Blockdiagramm genannt.  \n",
    "Die einzelnen Symbole haben unterschiedliche Bedeutungen.\n",
    "\n",
    "## Programmablaufplan (PAP) am Beispiel der Aufgabe 1\n",
    "<img src=\"images\\pap1.png\" width=250>\n",
    "\n"
   ]
  }
 ],
 "metadata": {
  "kernelspec": {
   "display_name": "Python 3",
   "language": "python",
   "name": "python3"
  },
  "language_info": {
   "codemirror_mode": {
    "name": "ipython",
    "version": 3
   },
   "file_extension": ".py",
   "mimetype": "text/x-python",
   "name": "python",
   "nbconvert_exporter": "python",
   "pygments_lexer": "ipython3",
   "version": "3.10.12"
  }
 },
 "nbformat": 4,
 "nbformat_minor": 2
}
